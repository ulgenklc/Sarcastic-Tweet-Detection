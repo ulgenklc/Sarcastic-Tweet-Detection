{
 "cells": [
  {
   "cell_type": "markdown",
   "metadata": {
    "colab_type": "text",
    "id": "view-in-github"
   },
   "source": [
    "<a href=\"https://colab.research.google.com/github/ulgenklc/Sarcastic-Tweet-Detection/blob/main/sentiment_analysis_singh.ipynb\" target=\"_parent\"><img src=\"https://colab.research.google.com/assets/colab-badge.svg\" alt=\"Open In Colab\"/></a>"
   ]
  },
  {
   "cell_type": "markdown",
   "metadata": {
    "id": "ca_6w0MZ2C76"
   },
   "source": [
    "# Twitter Sentiment Analysis\n",
    "\n",
    "**By Neuromatch Academy**\n",
    "\n",
    "__Content creators:__  Juan Manuel Rodriguez, Salomey Osei, Gonzalo Uribarri"
   ]
  },
  {
   "cell_type": "markdown",
   "metadata": {
    "id": "sKcIXMtu4IIj"
   },
   "source": [
    "**Our 2021 Sponsors, including Presenting Sponsor Facebook Reality Labs**\n",
    "\n",
    "<p align='center'><img src='https://github.com/NeuromatchAcademy/widgets/blob/master/sponsors.png?raw=True'/></p>"
   ]
  },
  {
   "cell_type": "markdown",
   "metadata": {
    "id": "qPDnA4tP4O8d"
   },
   "source": [
    "---\n",
    "# Step 1: Questions and goals\n",
    "\n",
    "* Can we infer emotion from a tweet text?\n",
    "* How words are distributed accross the dataset?\n",
    "* Are words related to one kind of emotion?"
   ]
  },
  {
   "cell_type": "markdown",
   "metadata": {
    "id": "Yz2milFF4Q9a"
   },
   "source": [
    "---\n",
    "# Step 2: Literature review\n",
    "\n",
    "[Original Dataset Paper](https://cs.stanford.edu/people/alecmgo/papers/TwitterDistantSupervision09.pdf)\n",
    "\n",
    "[Papers with code](https://paperswithcode.com/dataset/imdb-movie-reviews)"
   ]
  },
  {
   "cell_type": "markdown",
   "metadata": {
    "id": "j3MSPcueSiSN"
   },
   "source": [
    "---\n",
    "# Step 3: Load and explore the dataset"
   ]
  },
  {
   "cell_type": "markdown",
   "metadata": {
    "id": "TWEPUsg8pUyc"
   },
   "source": [
    "##  Install dependencies\n"
   ]
  },
  {
   "cell_type": "code",
   "execution_count": 1,
   "metadata": {
    "id": "vjyDH-sH6Rsa",
    "tags": [
     "hide-input"
    ]
   },
   "outputs": [],
   "source": [
    "# @title Install dependencies\n",
    "!pip install pandas --quiet\n",
    "!pip install torchtext --quiet"
   ]
  },
  {
   "cell_type": "code",
   "execution_count": 2,
   "metadata": {
    "id": "-fZ9-oUPZCnN"
   },
   "outputs": [],
   "source": [
    "# We import some libraries to load the dataset\n",
    "import os\n",
    "import numpy as np\n",
    "import pandas as pd\n",
    "import matplotlib.pyplot as plt\n",
    "\n",
    "from collections import Counter\n",
    "from tqdm.notebook import tqdm\n",
    "\n",
    "import torch\n",
    "import torch.nn as nn\n",
    "import torch.optim as optim\n",
    "import torch.nn.functional as F\n",
    "from torch.utils.data import TensorDataset, DataLoader\n",
    "\n",
    "import torchtext\n",
    "from torchtext.data import get_tokenizer\n",
    "\n",
    "from sklearn.utils import shuffle\n",
    "from sklearn.metrics import classification_report\n",
    "from sklearn.linear_model import LogisticRegression\n",
    "from sklearn.model_selection import train_test_split\n",
    "from sklearn.feature_extraction.text import CountVectorizer"
   ]
  },
  {
   "cell_type": "markdown",
   "metadata": {
    "id": "yImD1N69kBcK"
   },
   "source": [
    "You can find the dataset we are going to use in [this website](http://help.sentiment140.com/for-students/)."
   ]
  },
  {
   "cell_type": "code",
   "execution_count": 3,
   "metadata": {
    "id": "1KCH2amLNcZH"
   },
   "outputs": [],
   "source": [
    "#import requests, zipfile, io\n",
    "#url = 'http://cs.stanford.edu/people/alecmgo/trainingandtestdata.zip'\n",
    "#r = requests.get(url)\n",
    "#z = zipfile.ZipFile(io.BytesIO(r.content))\n",
    "#z.extractall()"
   ]
  },
  {
   "cell_type": "code",
   "execution_count": 4,
   "metadata": {
    "colab": {
     "base_uri": "https://localhost:8080/",
     "height": 204
    },
    "id": "MKzdL9G-WEEx",
    "outputId": "56182d67-72a7-4bc0-a45b-100e4bc2ebf5"
   },
   "outputs": [
    {
     "data": {
      "text/html": [
       "<div>\n",
       "<style scoped>\n",
       "    .dataframe tbody tr th:only-of-type {\n",
       "        vertical-align: middle;\n",
       "    }\n",
       "\n",
       "    .dataframe tbody tr th {\n",
       "        vertical-align: top;\n",
       "    }\n",
       "\n",
       "    .dataframe thead th {\n",
       "        text-align: right;\n",
       "    }\n",
       "</style>\n",
       "<table border=\"1\" class=\"dataframe\">\n",
       "  <thead>\n",
       "    <tr style=\"text-align: right;\">\n",
       "      <th></th>\n",
       "      <th>Unnamed: 0</th>\n",
       "      <th>text</th>\n",
       "      <th>label</th>\n",
       "      <th>source</th>\n",
       "    </tr>\n",
       "  </thead>\n",
       "  <tbody>\n",
       "    <tr>\n",
       "      <th>0</th>\n",
       "      <td>0</td>\n",
       "      <td>sorry but sue from the mediweight advert looks...</td>\n",
       "      <td>False</td>\n",
       "      <td>3.0</td>\n",
       "    </tr>\n",
       "    <tr>\n",
       "      <th>1</th>\n",
       "      <td>1</td>\n",
       "      <td>@davesnyder since this is fantasy can it be an...</td>\n",
       "      <td>False</td>\n",
       "      <td>3.0</td>\n",
       "    </tr>\n",
       "    <tr>\n",
       "      <th>2</th>\n",
       "      <td>2</td>\n",
       "      <td>Good times, fun times here in Grand old Britan...</td>\n",
       "      <td>True</td>\n",
       "      <td>3.0</td>\n",
       "    </tr>\n",
       "    <tr>\n",
       "      <th>3</th>\n",
       "      <td>3</td>\n",
       "      <td>I send light and love to all impacted by the #...</td>\n",
       "      <td>False</td>\n",
       "      <td>3.0</td>\n",
       "    </tr>\n",
       "    <tr>\n",
       "      <th>4</th>\n",
       "      <td>4</td>\n",
       "      <td>Another year closer to death</td>\n",
       "      <td>False</td>\n",
       "      <td>3.0</td>\n",
       "    </tr>\n",
       "  </tbody>\n",
       "</table>\n",
       "</div>"
      ],
      "text/plain": [
       "   Unnamed: 0                                               text  label  \\\n",
       "0           0  sorry but sue from the mediweight advert looks...  False   \n",
       "1           1  @davesnyder since this is fantasy can it be an...  False   \n",
       "2           2  Good times, fun times here in Grand old Britan...   True   \n",
       "3           3  I send light and love to all impacted by the #...  False   \n",
       "4           4                       Another year closer to death  False   \n",
       "\n",
       "   source  \n",
       "0     3.0  \n",
       "1     3.0  \n",
       "2     3.0  \n",
       "3     3.0  \n",
       "4     3.0  "
      ]
     },
     "execution_count": 4,
     "metadata": {},
     "output_type": "execute_result"
    }
   ],
   "source": [
    "# We load the dataset\n",
    "path = '/Users/bengieru/Desktop/NMA-DL/iSarcasm/iSarcasm_dataset/'\n",
    "header_list = [\"text\", \"label\", 'source']\n",
    "df_train = pd.read_csv(path + 'cleandata/train.csv', encoding = \"utf-8\")\n",
    "df_test = pd.read_csv(path + 'cleandata/test.csv', encoding = \"utf-8\")\n",
    "df = pd.concat([df_train, df_test])\n",
    "# Let's have a look at it\n",
    "df.head()"
   ]
  },
  {
   "cell_type": "markdown",
   "metadata": {
    "id": "JivOZOKwmQr5"
   },
   "source": [
    "For this project we will use only the text and the polarity of the tweet. Notice that polarity is 0 for negative tweets and 4 for positive tweet."
   ]
  },
  {
   "cell_type": "code",
   "execution_count": 5,
   "metadata": {
    "colab": {
     "base_uri": "https://localhost:8080/"
    },
    "id": "GV3lRinweNEO",
    "outputId": "38723f3a-a6a5-45c5-ddf8-66f5d9203029"
   },
   "outputs": [],
   "source": [
    "# print(df.shape)\n",
    "#len(df['user'].unique())"
   ]
  },
  {
   "cell_type": "code",
   "execution_count": 6,
   "metadata": {
    "colab": {
     "base_uri": "https://localhost:8080/",
     "height": 35
    },
    "id": "V2YIH-QIjjCE",
    "outputId": "725ac945-fb73-4f94-8a2a-de1bda898201"
   },
   "outputs": [
    {
     "data": {
      "text/plain": [
       "'Looks like the leagues heading to the reds then'"
      ]
     },
     "execution_count": 6,
     "metadata": {},
     "output_type": "execute_result"
    }
   ],
   "source": [
    "df.text.values[5]"
   ]
  },
  {
   "cell_type": "code",
   "execution_count": 7,
   "metadata": {},
   "outputs": [
    {
     "data": {
      "text/plain": [
       "array([0, 0, 1, ..., 0, 0, 0])"
      ]
     },
     "execution_count": 7,
     "metadata": {},
     "output_type": "execute_result"
    }
   ],
   "source": [
    "(df.label.values>=1).astype(int)"
   ]
  },
  {
   "cell_type": "code",
   "execution_count": 8,
   "metadata": {
    "colab": {
     "base_uri": "https://localhost:8080/"
    },
    "id": "YYpI-sQdXRss",
    "outputId": "7410b053-3a2c-473b-a0e0-291424a03de2"
   },
   "outputs": [
    {
     "name": "stdout",
     "output_type": "stream",
     "text": [
      "(3556,)\n"
     ]
    }
   ],
   "source": [
    "X = df.text.values\n",
    "print(X.shape)\n",
    "# Changes values from [0,4] to [0,1]\n",
    "y = (df.label.values >= 1).astype(int)\n",
    "\n",
    "\n",
    "# Split the data into train and test\n",
    "x_train_text, x_test_text, y_train, y_test = train_test_split(X, y, test_size=0.2, random_state=42, stratify=y)"
   ]
  },
  {
   "cell_type": "markdown",
   "metadata": {
    "id": "Le2EXidHSrsc"
   },
   "source": [
    "The first thing we have to do before working on the models is to familiarize ourselves with the dataset. This is called Exploratory Data Analisys (EDA)."
   ]
  },
  {
   "cell_type": "code",
   "execution_count": 9,
   "metadata": {
    "id": "2mcJXVWFZMNs"
   },
   "outputs": [],
   "source": [
    "df1 = df.copy()"
   ]
  },
  {
   "cell_type": "code",
   "execution_count": 10,
   "metadata": {
    "id": "nWGfZbNBpc_v"
   },
   "outputs": [
    {
     "data": {
      "text/html": [
       "<div>\n",
       "<style scoped>\n",
       "    .dataframe tbody tr th:only-of-type {\n",
       "        vertical-align: middle;\n",
       "    }\n",
       "\n",
       "    .dataframe tbody tr th {\n",
       "        vertical-align: top;\n",
       "    }\n",
       "\n",
       "    .dataframe thead th {\n",
       "        text-align: right;\n",
       "    }\n",
       "</style>\n",
       "<table border=\"1\" class=\"dataframe\">\n",
       "  <thead>\n",
       "    <tr style=\"text-align: right;\">\n",
       "      <th></th>\n",
       "      <th>Unnamed: 0</th>\n",
       "      <th>text</th>\n",
       "      <th>label</th>\n",
       "      <th>source</th>\n",
       "      <th>url_removed</th>\n",
       "    </tr>\n",
       "  </thead>\n",
       "  <tbody>\n",
       "    <tr>\n",
       "      <th>0</th>\n",
       "      <td>0</td>\n",
       "      <td>sorry but sue from the mediweight advert looks...</td>\n",
       "      <td>False</td>\n",
       "      <td>3.0</td>\n",
       "      <td>sorry but sue from the mediweight advert looks...</td>\n",
       "    </tr>\n",
       "    <tr>\n",
       "      <th>1</th>\n",
       "      <td>1</td>\n",
       "      <td>@davesnyder since this is fantasy can it be an...</td>\n",
       "      <td>False</td>\n",
       "      <td>3.0</td>\n",
       "      <td>@davesnyder since this is fantasy can it be an...</td>\n",
       "    </tr>\n",
       "    <tr>\n",
       "      <th>2</th>\n",
       "      <td>2</td>\n",
       "      <td>Good times, fun times here in Grand old Britan...</td>\n",
       "      <td>True</td>\n",
       "      <td>3.0</td>\n",
       "      <td>Good times, fun times here in Grand old Britan...</td>\n",
       "    </tr>\n",
       "    <tr>\n",
       "      <th>3</th>\n",
       "      <td>3</td>\n",
       "      <td>I send light and love to all impacted by the #...</td>\n",
       "      <td>False</td>\n",
       "      <td>3.0</td>\n",
       "      <td>I send light and love to all impacted by the #...</td>\n",
       "    </tr>\n",
       "    <tr>\n",
       "      <th>4</th>\n",
       "      <td>4</td>\n",
       "      <td>Another year closer to death</td>\n",
       "      <td>False</td>\n",
       "      <td>3.0</td>\n",
       "      <td>Another year closer to death</td>\n",
       "    </tr>\n",
       "  </tbody>\n",
       "</table>\n",
       "</div>"
      ],
      "text/plain": [
       "   Unnamed: 0                                               text  label  \\\n",
       "0           0  sorry but sue from the mediweight advert looks...  False   \n",
       "1           1  @davesnyder since this is fantasy can it be an...  False   \n",
       "2           2  Good times, fun times here in Grand old Britan...   True   \n",
       "3           3  I send light and love to all impacted by the #...  False   \n",
       "4           4                       Another year closer to death  False   \n",
       "\n",
       "   source                                        url_removed  \n",
       "0     3.0  sorry but sue from the mediweight advert looks...  \n",
       "1     3.0  @davesnyder since this is fantasy can it be an...  \n",
       "2     3.0  Good times, fun times here in Grand old Britan...  \n",
       "3     3.0  I send light and love to all impacted by the #...  \n",
       "4     3.0                       Another year closer to death  "
      ]
     },
     "execution_count": 10,
     "metadata": {},
     "output_type": "execute_result"
    }
   ],
   "source": [
    "#remove URLs\n",
    "import re\n",
    "pattern=r'(?i)\\b((?:[a-z][\\w-]+:(?:/{1,3}|[a-z0-9%])|www\\d{0,3}[.]|[a-z0-9.\\-]+[.][a-z]{2,4}/)(?:[^\\s()<>]+|\\(([^\\s()<>]+|(\\([^\\s()<>]+\\)))*\\))+(?:\\(([^\\s()<>]+|(\\([^\\s()<>]+\\)))*\\)|[^\\s`!()\\[\\]{};:\\'\".,<>?«»“”‘’]))';\n",
    "def rem_url(x):\n",
    "    match = re.findall(pattern, x)\n",
    "    for m in match:\n",
    "        url = m[0]\n",
    "        x = x.replace(url, '')\n",
    "    return x\n",
    "\n",
    "df1['url_removed'] = df1['text'].apply(lambda x:rem_url(x))\n",
    "df1.head()"
   ]
  },
  {
   "cell_type": "code",
   "execution_count": 11,
   "metadata": {
    "id": "UNmPTlpmphER"
   },
   "outputs": [
    {
     "data": {
      "text/html": [
       "<div>\n",
       "<style scoped>\n",
       "    .dataframe tbody tr th:only-of-type {\n",
       "        vertical-align: middle;\n",
       "    }\n",
       "\n",
       "    .dataframe tbody tr th {\n",
       "        vertical-align: top;\n",
       "    }\n",
       "\n",
       "    .dataframe thead th {\n",
       "        text-align: right;\n",
       "    }\n",
       "</style>\n",
       "<table border=\"1\" class=\"dataframe\">\n",
       "  <thead>\n",
       "    <tr style=\"text-align: right;\">\n",
       "      <th></th>\n",
       "      <th>Unnamed: 0</th>\n",
       "      <th>text</th>\n",
       "      <th>label</th>\n",
       "      <th>source</th>\n",
       "      <th>url_removed</th>\n",
       "      <th>handle_removed</th>\n",
       "    </tr>\n",
       "  </thead>\n",
       "  <tbody>\n",
       "    <tr>\n",
       "      <th>0</th>\n",
       "      <td>0</td>\n",
       "      <td>sorry but sue from the mediweight advert looks...</td>\n",
       "      <td>False</td>\n",
       "      <td>3.0</td>\n",
       "      <td>sorry but sue from the mediweight advert looks...</td>\n",
       "      <td>[sorry, but, sue, from, the, mediweight, adver...</td>\n",
       "    </tr>\n",
       "    <tr>\n",
       "      <th>1</th>\n",
       "      <td>1</td>\n",
       "      <td>@davesnyder since this is fantasy can it be an...</td>\n",
       "      <td>False</td>\n",
       "      <td>3.0</td>\n",
       "      <td>@davesnyder since this is fantasy can it be an...</td>\n",
       "      <td>[since, this, is, fantasy, can, it, be, any, i...</td>\n",
       "    </tr>\n",
       "    <tr>\n",
       "      <th>2</th>\n",
       "      <td>2</td>\n",
       "      <td>Good times, fun times here in Grand old Britan...</td>\n",
       "      <td>True</td>\n",
       "      <td>3.0</td>\n",
       "      <td>Good times, fun times here in Grand old Britan...</td>\n",
       "      <td>[Good, times, ,, fun, times, here, in, Grand, ...</td>\n",
       "    </tr>\n",
       "    <tr>\n",
       "      <th>3</th>\n",
       "      <td>3</td>\n",
       "      <td>I send light and love to all impacted by the #...</td>\n",
       "      <td>False</td>\n",
       "      <td>3.0</td>\n",
       "      <td>I send light and love to all impacted by the #...</td>\n",
       "      <td>[I, send, light, and, love, to, all, impacted,...</td>\n",
       "    </tr>\n",
       "    <tr>\n",
       "      <th>4</th>\n",
       "      <td>4</td>\n",
       "      <td>Another year closer to death</td>\n",
       "      <td>False</td>\n",
       "      <td>3.0</td>\n",
       "      <td>Another year closer to death</td>\n",
       "      <td>[Another, year, closer, to, death]</td>\n",
       "    </tr>\n",
       "  </tbody>\n",
       "</table>\n",
       "</div>"
      ],
      "text/plain": [
       "   Unnamed: 0                                               text  label  \\\n",
       "0           0  sorry but sue from the mediweight advert looks...  False   \n",
       "1           1  @davesnyder since this is fantasy can it be an...  False   \n",
       "2           2  Good times, fun times here in Grand old Britan...   True   \n",
       "3           3  I send light and love to all impacted by the #...  False   \n",
       "4           4                       Another year closer to death  False   \n",
       "\n",
       "   source                                        url_removed  \\\n",
       "0     3.0  sorry but sue from the mediweight advert looks...   \n",
       "1     3.0  @davesnyder since this is fantasy can it be an...   \n",
       "2     3.0  Good times, fun times here in Grand old Britan...   \n",
       "3     3.0  I send light and love to all impacted by the #...   \n",
       "4     3.0                       Another year closer to death   \n",
       "\n",
       "                                      handle_removed  \n",
       "0  [sorry, but, sue, from, the, mediweight, adver...  \n",
       "1  [since, this, is, fantasy, can, it, be, any, i...  \n",
       "2  [Good, times, ,, fun, times, here, in, Grand, ...  \n",
       "3  [I, send, light, and, love, to, all, impacted,...  \n",
       "4                 [Another, year, closer, to, death]  "
      ]
     },
     "execution_count": 11,
     "metadata": {},
     "output_type": "execute_result"
    }
   ],
   "source": [
    "#remove twitter handles from text\n",
    "from nltk.tokenize import TweetTokenizer\n",
    "tknzr = TweetTokenizer(strip_handles=True)\n",
    "df1['handle_removed'] = df1['url_removed'].apply(lambda x:tknzr.tokenize(x))\n",
    "df1.head()"
   ]
  },
  {
   "cell_type": "code",
   "execution_count": 12,
   "metadata": {
    "id": "Sr9QJGGjpjzl"
   },
   "outputs": [
    {
     "data": {
      "text/html": [
       "<div>\n",
       "<style scoped>\n",
       "    .dataframe tbody tr th:only-of-type {\n",
       "        vertical-align: middle;\n",
       "    }\n",
       "\n",
       "    .dataframe tbody tr th {\n",
       "        vertical-align: top;\n",
       "    }\n",
       "\n",
       "    .dataframe thead th {\n",
       "        text-align: right;\n",
       "    }\n",
       "</style>\n",
       "<table border=\"1\" class=\"dataframe\">\n",
       "  <thead>\n",
       "    <tr style=\"text-align: right;\">\n",
       "      <th></th>\n",
       "      <th>Unnamed: 0</th>\n",
       "      <th>text</th>\n",
       "      <th>label</th>\n",
       "      <th>source</th>\n",
       "      <th>url_removed</th>\n",
       "      <th>handle_removed</th>\n",
       "      <th>detok</th>\n",
       "    </tr>\n",
       "  </thead>\n",
       "  <tbody>\n",
       "    <tr>\n",
       "      <th>0</th>\n",
       "      <td>0</td>\n",
       "      <td>sorry but sue from the mediweight advert looks...</td>\n",
       "      <td>False</td>\n",
       "      <td>3.0</td>\n",
       "      <td>sorry but sue from the mediweight advert looks...</td>\n",
       "      <td>[sorry, but, sue, from, the, mediweight, adver...</td>\n",
       "      <td>sorry but sue from the mediweight advert looks...</td>\n",
       "    </tr>\n",
       "    <tr>\n",
       "      <th>1</th>\n",
       "      <td>1</td>\n",
       "      <td>@davesnyder since this is fantasy can it be an...</td>\n",
       "      <td>False</td>\n",
       "      <td>3.0</td>\n",
       "      <td>@davesnyder since this is fantasy can it be an...</td>\n",
       "      <td>[since, this, is, fantasy, can, it, be, any, i...</td>\n",
       "      <td>since this is fantasy can it be any individual...</td>\n",
       "    </tr>\n",
       "    <tr>\n",
       "      <th>2</th>\n",
       "      <td>2</td>\n",
       "      <td>Good times, fun times here in Grand old Britan...</td>\n",
       "      <td>True</td>\n",
       "      <td>3.0</td>\n",
       "      <td>Good times, fun times here in Grand old Britan...</td>\n",
       "      <td>[Good, times, ,, fun, times, here, in, Grand, ...</td>\n",
       "      <td>Good times, fun times here in Grand old Britan...</td>\n",
       "    </tr>\n",
       "    <tr>\n",
       "      <th>3</th>\n",
       "      <td>3</td>\n",
       "      <td>I send light and love to all impacted by the #...</td>\n",
       "      <td>False</td>\n",
       "      <td>3.0</td>\n",
       "      <td>I send light and love to all impacted by the #...</td>\n",
       "      <td>[I, send, light, and, love, to, all, impacted,...</td>\n",
       "      <td>I send light and love to all impacted by the #...</td>\n",
       "    </tr>\n",
       "    <tr>\n",
       "      <th>4</th>\n",
       "      <td>4</td>\n",
       "      <td>Another year closer to death</td>\n",
       "      <td>False</td>\n",
       "      <td>3.0</td>\n",
       "      <td>Another year closer to death</td>\n",
       "      <td>[Another, year, closer, to, death]</td>\n",
       "      <td>Another year closer to death</td>\n",
       "    </tr>\n",
       "  </tbody>\n",
       "</table>\n",
       "</div>"
      ],
      "text/plain": [
       "   Unnamed: 0                                               text  label  \\\n",
       "0           0  sorry but sue from the mediweight advert looks...  False   \n",
       "1           1  @davesnyder since this is fantasy can it be an...  False   \n",
       "2           2  Good times, fun times here in Grand old Britan...   True   \n",
       "3           3  I send light and love to all impacted by the #...  False   \n",
       "4           4                       Another year closer to death  False   \n",
       "\n",
       "   source                                        url_removed  \\\n",
       "0     3.0  sorry but sue from the mediweight advert looks...   \n",
       "1     3.0  @davesnyder since this is fantasy can it be an...   \n",
       "2     3.0  Good times, fun times here in Grand old Britan...   \n",
       "3     3.0  I send light and love to all impacted by the #...   \n",
       "4     3.0                       Another year closer to death   \n",
       "\n",
       "                                      handle_removed  \\\n",
       "0  [sorry, but, sue, from, the, mediweight, adver...   \n",
       "1  [since, this, is, fantasy, can, it, be, any, i...   \n",
       "2  [Good, times, ,, fun, times, here, in, Grand, ...   \n",
       "3  [I, send, light, and, love, to, all, impacted,...   \n",
       "4                 [Another, year, closer, to, death]   \n",
       "\n",
       "                                               detok  \n",
       "0  sorry but sue from the mediweight advert looks...  \n",
       "1  since this is fantasy can it be any individual...  \n",
       "2  Good times, fun times here in Grand old Britan...  \n",
       "3  I send light and love to all impacted by the #...  \n",
       "4                       Another year closer to death  "
      ]
     },
     "execution_count": 12,
     "metadata": {},
     "output_type": "execute_result"
    }
   ],
   "source": [
    "# detokenize the tweet again\n",
    "from nltk.tokenize.treebank import TreebankWordDetokenizer\n",
    "df1['detok'] = df1['handle_removed'].apply(lambda x:TreebankWordDetokenizer().detokenize(x))\n",
    "\n",
    "df1.head()"
   ]
  },
  {
   "cell_type": "code",
   "execution_count": 13,
   "metadata": {},
   "outputs": [
    {
     "data": {
      "text/html": [
       "<div>\n",
       "<style scoped>\n",
       "    .dataframe tbody tr th:only-of-type {\n",
       "        vertical-align: middle;\n",
       "    }\n",
       "\n",
       "    .dataframe tbody tr th {\n",
       "        vertical-align: top;\n",
       "    }\n",
       "\n",
       "    .dataframe thead th {\n",
       "        text-align: right;\n",
       "    }\n",
       "</style>\n",
       "<table border=\"1\" class=\"dataframe\">\n",
       "  <thead>\n",
       "    <tr style=\"text-align: right;\">\n",
       "      <th></th>\n",
       "      <th>Unnamed: 0</th>\n",
       "      <th>text</th>\n",
       "      <th>label</th>\n",
       "      <th>source</th>\n",
       "      <th>url_removed</th>\n",
       "      <th>handle_removed</th>\n",
       "      <th>detok</th>\n",
       "      <th>punc_removed</th>\n",
       "    </tr>\n",
       "  </thead>\n",
       "  <tbody>\n",
       "    <tr>\n",
       "      <th>0</th>\n",
       "      <td>0</td>\n",
       "      <td>sorry but sue from the mediweight advert looks...</td>\n",
       "      <td>False</td>\n",
       "      <td>3.0</td>\n",
       "      <td>sorry but sue from the mediweight advert looks...</td>\n",
       "      <td>[sorry, but, sue, from, the, mediweight, adver...</td>\n",
       "      <td>sorry but sue from the mediweight advert looks...</td>\n",
       "      <td>sorry but sue from the mediweight advert looks...</td>\n",
       "    </tr>\n",
       "    <tr>\n",
       "      <th>1</th>\n",
       "      <td>1</td>\n",
       "      <td>@davesnyder since this is fantasy can it be an...</td>\n",
       "      <td>False</td>\n",
       "      <td>3.0</td>\n",
       "      <td>@davesnyder since this is fantasy can it be an...</td>\n",
       "      <td>[since, this, is, fantasy, can, it, be, any, i...</td>\n",
       "      <td>since this is fantasy can it be any individual...</td>\n",
       "      <td>since this is fantasy can it be any individual...</td>\n",
       "    </tr>\n",
       "    <tr>\n",
       "      <th>2</th>\n",
       "      <td>2</td>\n",
       "      <td>Good times, fun times here in Grand old Britan...</td>\n",
       "      <td>True</td>\n",
       "      <td>3.0</td>\n",
       "      <td>Good times, fun times here in Grand old Britan...</td>\n",
       "      <td>[Good, times, ,, fun, times, here, in, Grand, ...</td>\n",
       "      <td>Good times, fun times here in Grand old Britan...</td>\n",
       "      <td>Good times fun times here in Grand old Britannia</td>\n",
       "    </tr>\n",
       "    <tr>\n",
       "      <th>3</th>\n",
       "      <td>3</td>\n",
       "      <td>I send light and love to all impacted by the #...</td>\n",
       "      <td>False</td>\n",
       "      <td>3.0</td>\n",
       "      <td>I send light and love to all impacted by the #...</td>\n",
       "      <td>[I, send, light, and, love, to, all, impacted,...</td>\n",
       "      <td>I send light and love to all impacted by the #...</td>\n",
       "      <td>I send light and love to all impacted by the v...</td>\n",
       "    </tr>\n",
       "    <tr>\n",
       "      <th>4</th>\n",
       "      <td>4</td>\n",
       "      <td>Another year closer to death</td>\n",
       "      <td>False</td>\n",
       "      <td>3.0</td>\n",
       "      <td>Another year closer to death</td>\n",
       "      <td>[Another, year, closer, to, death]</td>\n",
       "      <td>Another year closer to death</td>\n",
       "      <td>Another year closer to death</td>\n",
       "    </tr>\n",
       "  </tbody>\n",
       "</table>\n",
       "</div>"
      ],
      "text/plain": [
       "   Unnamed: 0                                               text  label  \\\n",
       "0           0  sorry but sue from the mediweight advert looks...  False   \n",
       "1           1  @davesnyder since this is fantasy can it be an...  False   \n",
       "2           2  Good times, fun times here in Grand old Britan...   True   \n",
       "3           3  I send light and love to all impacted by the #...  False   \n",
       "4           4                       Another year closer to death  False   \n",
       "\n",
       "   source                                        url_removed  \\\n",
       "0     3.0  sorry but sue from the mediweight advert looks...   \n",
       "1     3.0  @davesnyder since this is fantasy can it be an...   \n",
       "2     3.0  Good times, fun times here in Grand old Britan...   \n",
       "3     3.0  I send light and love to all impacted by the #...   \n",
       "4     3.0                       Another year closer to death   \n",
       "\n",
       "                                      handle_removed  \\\n",
       "0  [sorry, but, sue, from, the, mediweight, adver...   \n",
       "1  [since, this, is, fantasy, can, it, be, any, i...   \n",
       "2  [Good, times, ,, fun, times, here, in, Grand, ...   \n",
       "3  [I, send, light, and, love, to, all, impacted,...   \n",
       "4                 [Another, year, closer, to, death]   \n",
       "\n",
       "                                               detok  \\\n",
       "0  sorry but sue from the mediweight advert looks...   \n",
       "1  since this is fantasy can it be any individual...   \n",
       "2  Good times, fun times here in Grand old Britan...   \n",
       "3  I send light and love to all impacted by the #...   \n",
       "4                       Another year closer to death   \n",
       "\n",
       "                                        punc_removed  \n",
       "0  sorry but sue from the mediweight advert looks...  \n",
       "1  since this is fantasy can it be any individual...  \n",
       "2   Good times fun times here in Grand old Britannia  \n",
       "3  I send light and love to all impacted by the v...  \n",
       "4                       Another year closer to death  "
      ]
     },
     "execution_count": 13,
     "metadata": {},
     "output_type": "execute_result"
    }
   ],
   "source": [
    "# remove punctuations\n",
    "import string\n",
    "string.punctuation\n",
    "string.punctuation = string.punctuation + '’'## this is different than whats included in string.punctuation. apostrophe == shift + option + ']'\n",
    "def remove_punctuation(text):\n",
    "    punctuationfree=\"\".join([i for i in text if i not in string.punctuation])\n",
    "    return punctuationfree\n",
    "df1['punc_removed']= df1['detok'].apply(lambda x:remove_punctuation(x))\n",
    "df1.head()"
   ]
  },
  {
   "cell_type": "code",
   "execution_count": 14,
   "metadata": {},
   "outputs": [
    {
     "data": {
      "text/html": [
       "<div>\n",
       "<style scoped>\n",
       "    .dataframe tbody tr th:only-of-type {\n",
       "        vertical-align: middle;\n",
       "    }\n",
       "\n",
       "    .dataframe tbody tr th {\n",
       "        vertical-align: top;\n",
       "    }\n",
       "\n",
       "    .dataframe thead th {\n",
       "        text-align: right;\n",
       "    }\n",
       "</style>\n",
       "<table border=\"1\" class=\"dataframe\">\n",
       "  <thead>\n",
       "    <tr style=\"text-align: right;\">\n",
       "      <th></th>\n",
       "      <th>Unnamed: 0</th>\n",
       "      <th>text</th>\n",
       "      <th>label</th>\n",
       "      <th>source</th>\n",
       "      <th>url_removed</th>\n",
       "      <th>handle_removed</th>\n",
       "      <th>detok</th>\n",
       "      <th>punc_removed</th>\n",
       "      <th>url_handle_punc_upper_removed</th>\n",
       "    </tr>\n",
       "  </thead>\n",
       "  <tbody>\n",
       "    <tr>\n",
       "      <th>0</th>\n",
       "      <td>0</td>\n",
       "      <td>sorry but sue from the mediweight advert looks...</td>\n",
       "      <td>False</td>\n",
       "      <td>3.0</td>\n",
       "      <td>sorry but sue from the mediweight advert looks...</td>\n",
       "      <td>[sorry, but, sue, from, the, mediweight, adver...</td>\n",
       "      <td>sorry but sue from the mediweight advert looks...</td>\n",
       "      <td>sorry but sue from the mediweight advert looks...</td>\n",
       "      <td>sorry but sue from the mediweight advert looks...</td>\n",
       "    </tr>\n",
       "    <tr>\n",
       "      <th>1</th>\n",
       "      <td>1</td>\n",
       "      <td>@davesnyder since this is fantasy can it be an...</td>\n",
       "      <td>False</td>\n",
       "      <td>3.0</td>\n",
       "      <td>@davesnyder since this is fantasy can it be an...</td>\n",
       "      <td>[since, this, is, fantasy, can, it, be, any, i...</td>\n",
       "      <td>since this is fantasy can it be any individual...</td>\n",
       "      <td>since this is fantasy can it be any individual...</td>\n",
       "      <td>since this is fantasy can it be any individual...</td>\n",
       "    </tr>\n",
       "    <tr>\n",
       "      <th>2</th>\n",
       "      <td>2</td>\n",
       "      <td>Good times, fun times here in Grand old Britan...</td>\n",
       "      <td>True</td>\n",
       "      <td>3.0</td>\n",
       "      <td>Good times, fun times here in Grand old Britan...</td>\n",
       "      <td>[Good, times, ,, fun, times, here, in, Grand, ...</td>\n",
       "      <td>Good times, fun times here in Grand old Britan...</td>\n",
       "      <td>Good times fun times here in Grand old Britannia</td>\n",
       "      <td>good times fun times here in grand old britannia</td>\n",
       "    </tr>\n",
       "    <tr>\n",
       "      <th>3</th>\n",
       "      <td>3</td>\n",
       "      <td>I send light and love to all impacted by the #...</td>\n",
       "      <td>False</td>\n",
       "      <td>3.0</td>\n",
       "      <td>I send light and love to all impacted by the #...</td>\n",
       "      <td>[I, send, light, and, love, to, all, impacted,...</td>\n",
       "      <td>I send light and love to all impacted by the #...</td>\n",
       "      <td>I send light and love to all impacted by the v...</td>\n",
       "      <td>i send light and love to all impacted by the v...</td>\n",
       "    </tr>\n",
       "    <tr>\n",
       "      <th>4</th>\n",
       "      <td>4</td>\n",
       "      <td>Another year closer to death</td>\n",
       "      <td>False</td>\n",
       "      <td>3.0</td>\n",
       "      <td>Another year closer to death</td>\n",
       "      <td>[Another, year, closer, to, death]</td>\n",
       "      <td>Another year closer to death</td>\n",
       "      <td>Another year closer to death</td>\n",
       "      <td>another year closer to death</td>\n",
       "    </tr>\n",
       "  </tbody>\n",
       "</table>\n",
       "</div>"
      ],
      "text/plain": [
       "   Unnamed: 0                                               text  label  \\\n",
       "0           0  sorry but sue from the mediweight advert looks...  False   \n",
       "1           1  @davesnyder since this is fantasy can it be an...  False   \n",
       "2           2  Good times, fun times here in Grand old Britan...   True   \n",
       "3           3  I send light and love to all impacted by the #...  False   \n",
       "4           4                       Another year closer to death  False   \n",
       "\n",
       "   source                                        url_removed  \\\n",
       "0     3.0  sorry but sue from the mediweight advert looks...   \n",
       "1     3.0  @davesnyder since this is fantasy can it be an...   \n",
       "2     3.0  Good times, fun times here in Grand old Britan...   \n",
       "3     3.0  I send light and love to all impacted by the #...   \n",
       "4     3.0                       Another year closer to death   \n",
       "\n",
       "                                      handle_removed  \\\n",
       "0  [sorry, but, sue, from, the, mediweight, adver...   \n",
       "1  [since, this, is, fantasy, can, it, be, any, i...   \n",
       "2  [Good, times, ,, fun, times, here, in, Grand, ...   \n",
       "3  [I, send, light, and, love, to, all, impacted,...   \n",
       "4                 [Another, year, closer, to, death]   \n",
       "\n",
       "                                               detok  \\\n",
       "0  sorry but sue from the mediweight advert looks...   \n",
       "1  since this is fantasy can it be any individual...   \n",
       "2  Good times, fun times here in Grand old Britan...   \n",
       "3  I send light and love to all impacted by the #...   \n",
       "4                       Another year closer to death   \n",
       "\n",
       "                                        punc_removed  \\\n",
       "0  sorry but sue from the mediweight advert looks...   \n",
       "1  since this is fantasy can it be any individual...   \n",
       "2   Good times fun times here in Grand old Britannia   \n",
       "3  I send light and love to all impacted by the v...   \n",
       "4                       Another year closer to death   \n",
       "\n",
       "                       url_handle_punc_upper_removed  \n",
       "0  sorry but sue from the mediweight advert looks...  \n",
       "1  since this is fantasy can it be any individual...  \n",
       "2   good times fun times here in grand old britannia  \n",
       "3  i send light and love to all impacted by the v...  \n",
       "4                       another year closer to death  "
      ]
     },
     "execution_count": 14,
     "metadata": {},
     "output_type": "execute_result"
    }
   ],
   "source": [
    "# remove the upper case letters\n",
    "df1['url_handle_punc_upper_removed'] = df1['punc_removed'].apply(lambda x: x.lower())\n",
    "df1.head()"
   ]
  },
  {
   "cell_type": "code",
   "execution_count": 15,
   "metadata": {},
   "outputs": [
    {
     "data": {
      "text/plain": [
       "Index(['Unnamed: 0', 'text', 'label', 'source', 'url_removed',\n",
       "       'handle_removed', 'detok', 'punc_removed',\n",
       "       'url_handle_punc_upper_removed'],\n",
       "      dtype='object')"
      ]
     },
     "execution_count": 15,
     "metadata": {},
     "output_type": "execute_result"
    }
   ],
   "source": [
    "df1.columns"
   ]
  },
  {
   "cell_type": "code",
   "execution_count": 16,
   "metadata": {
    "colab": {
     "base_uri": "https://localhost:8080/",
     "height": 289
    },
    "id": "s1jTXc9EsG7_",
    "outputId": "f4559625-6b08-4915-e828-c137d553080f",
    "tags": []
   },
   "outputs": [
    {
     "data": {
      "text/html": [
       "<div>\n",
       "<style scoped>\n",
       "    .dataframe tbody tr th:only-of-type {\n",
       "        vertical-align: middle;\n",
       "    }\n",
       "\n",
       "    .dataframe tbody tr th {\n",
       "        vertical-align: top;\n",
       "    }\n",
       "\n",
       "    .dataframe thead th {\n",
       "        text-align: right;\n",
       "    }\n",
       "</style>\n",
       "<table border=\"1\" class=\"dataframe\">\n",
       "  <thead>\n",
       "    <tr style=\"text-align: right;\">\n",
       "      <th></th>\n",
       "      <th>text</th>\n",
       "      <th>label</th>\n",
       "      <th>source</th>\n",
       "      <th>url_handle_punc_upper_removed</th>\n",
       "    </tr>\n",
       "  </thead>\n",
       "  <tbody>\n",
       "    <tr>\n",
       "      <th>0</th>\n",
       "      <td>sorry but sue from the mediweight advert looks...</td>\n",
       "      <td>False</td>\n",
       "      <td>3.0</td>\n",
       "      <td>sorry but sue from the mediweight advert looks...</td>\n",
       "    </tr>\n",
       "    <tr>\n",
       "      <th>1</th>\n",
       "      <td>@davesnyder since this is fantasy can it be an...</td>\n",
       "      <td>False</td>\n",
       "      <td>3.0</td>\n",
       "      <td>since this is fantasy can it be any individual...</td>\n",
       "    </tr>\n",
       "    <tr>\n",
       "      <th>2</th>\n",
       "      <td>Good times, fun times here in Grand old Britan...</td>\n",
       "      <td>True</td>\n",
       "      <td>3.0</td>\n",
       "      <td>good times fun times here in grand old britannia</td>\n",
       "    </tr>\n",
       "    <tr>\n",
       "      <th>3</th>\n",
       "      <td>I send light and love to all impacted by the #...</td>\n",
       "      <td>False</td>\n",
       "      <td>3.0</td>\n",
       "      <td>i send light and love to all impacted by the v...</td>\n",
       "    </tr>\n",
       "    <tr>\n",
       "      <th>4</th>\n",
       "      <td>Another year closer to death</td>\n",
       "      <td>False</td>\n",
       "      <td>3.0</td>\n",
       "      <td>another year closer to death</td>\n",
       "    </tr>\n",
       "  </tbody>\n",
       "</table>\n",
       "</div>"
      ],
      "text/plain": [
       "                                                text  label  source  \\\n",
       "0  sorry but sue from the mediweight advert looks...  False     3.0   \n",
       "1  @davesnyder since this is fantasy can it be an...  False     3.0   \n",
       "2  Good times, fun times here in Grand old Britan...   True     3.0   \n",
       "3  I send light and love to all impacted by the #...  False     3.0   \n",
       "4                       Another year closer to death  False     3.0   \n",
       "\n",
       "                       url_handle_punc_upper_removed  \n",
       "0  sorry but sue from the mediweight advert looks...  \n",
       "1  since this is fantasy can it be any individual...  \n",
       "2   good times fun times here in grand old britannia  \n",
       "3  i send light and love to all impacted by the v...  \n",
       "4                       another year closer to death  "
      ]
     },
     "execution_count": 16,
     "metadata": {},
     "output_type": "execute_result"
    }
   ],
   "source": [
    "# delete the unnecessary columns\n",
    "del df1['Unnamed: 0']\n",
    "del df1['url_removed']\n",
    "del df1['handle_removed']\n",
    "del df1['detok']\n",
    "del df1['punc_removed']\n",
    "df1.head()"
   ]
  },
  {
   "cell_type": "code",
   "execution_count": 17,
   "metadata": {
    "colab": {
     "base_uri": "https://localhost:8080/",
     "height": 374
    },
    "id": "Ao_jud7KpTay",
    "outputId": "66e3b01a-a7a0-414d-c781-123e56ec85ea"
   },
   "outputs": [
    {
     "data": {
      "text/html": [
       "<div>\n",
       "<style scoped>\n",
       "    .dataframe tbody tr th:only-of-type {\n",
       "        vertical-align: middle;\n",
       "    }\n",
       "\n",
       "    .dataframe tbody tr th {\n",
       "        vertical-align: top;\n",
       "    }\n",
       "\n",
       "    .dataframe thead th {\n",
       "        text-align: right;\n",
       "    }\n",
       "</style>\n",
       "<table border=\"1\" class=\"dataframe\">\n",
       "  <thead>\n",
       "    <tr style=\"text-align: right;\">\n",
       "      <th></th>\n",
       "      <th>text</th>\n",
       "      <th>label</th>\n",
       "      <th>source</th>\n",
       "      <th>url_handle_punc_upper_removed</th>\n",
       "      <th>msg_tokenied</th>\n",
       "    </tr>\n",
       "  </thead>\n",
       "  <tbody>\n",
       "    <tr>\n",
       "      <th>0</th>\n",
       "      <td>sorry but sue from the mediweight advert looks...</td>\n",
       "      <td>False</td>\n",
       "      <td>3.0</td>\n",
       "      <td>sorry but sue from the mediweight advert looks...</td>\n",
       "      <td>[sorry, but, sue, from, the, mediweight, adver...</td>\n",
       "    </tr>\n",
       "    <tr>\n",
       "      <th>1</th>\n",
       "      <td>@davesnyder since this is fantasy can it be an...</td>\n",
       "      <td>False</td>\n",
       "      <td>3.0</td>\n",
       "      <td>since this is fantasy can it be any individual...</td>\n",
       "      <td>[since, this, is, fantasy, can, it, be, any, i...</td>\n",
       "    </tr>\n",
       "    <tr>\n",
       "      <th>2</th>\n",
       "      <td>Good times, fun times here in Grand old Britan...</td>\n",
       "      <td>True</td>\n",
       "      <td>3.0</td>\n",
       "      <td>good times fun times here in grand old britannia</td>\n",
       "      <td>[good, times, fun, times, here, in, grand, old...</td>\n",
       "    </tr>\n",
       "    <tr>\n",
       "      <th>3</th>\n",
       "      <td>I send light and love to all impacted by the #...</td>\n",
       "      <td>False</td>\n",
       "      <td>3.0</td>\n",
       "      <td>i send light and love to all impacted by the v...</td>\n",
       "      <td>[i, send, light, and, love, to, all, impacted,...</td>\n",
       "    </tr>\n",
       "    <tr>\n",
       "      <th>4</th>\n",
       "      <td>Another year closer to death</td>\n",
       "      <td>False</td>\n",
       "      <td>3.0</td>\n",
       "      <td>another year closer to death</td>\n",
       "      <td>[another, year, closer, to, death]</td>\n",
       "    </tr>\n",
       "  </tbody>\n",
       "</table>\n",
       "</div>"
      ],
      "text/plain": [
       "                                                text  label  source  \\\n",
       "0  sorry but sue from the mediweight advert looks...  False     3.0   \n",
       "1  @davesnyder since this is fantasy can it be an...  False     3.0   \n",
       "2  Good times, fun times here in Grand old Britan...   True     3.0   \n",
       "3  I send light and love to all impacted by the #...  False     3.0   \n",
       "4                       Another year closer to death  False     3.0   \n",
       "\n",
       "                       url_handle_punc_upper_removed  \\\n",
       "0  sorry but sue from the mediweight advert looks...   \n",
       "1  since this is fantasy can it be any individual...   \n",
       "2   good times fun times here in grand old britannia   \n",
       "3  i send light and love to all impacted by the v...   \n",
       "4                       another year closer to death   \n",
       "\n",
       "                                        msg_tokenied  \n",
       "0  [sorry, but, sue, from, the, mediweight, adver...  \n",
       "1  [since, this, is, fantasy, can, it, be, any, i...  \n",
       "2  [good, times, fun, times, here, in, grand, old...  \n",
       "3  [i, send, light, and, love, to, all, impacted,...  \n",
       "4                 [another, year, closer, to, death]  "
      ]
     },
     "execution_count": 17,
     "metadata": {},
     "output_type": "execute_result"
    }
   ],
   "source": [
    "# tokenize\n",
    "import re\n",
    "def tokenization(text):\n",
    "    tokens = re.split('W+',text)\n",
    "    return tokens\n",
    "#applying function to the column\n",
    "# df1['msg_tokenied']= df1['msg_lower'].apply(lambda x: tokenization(x))\n",
    "from nltk.tokenize import TweetTokenizer\n",
    "tknzr = TweetTokenizer(strip_handles=True)\n",
    "df1['msg_tokenied'] = df1['url_handle_punc_upper_removed'].apply(lambda x:tknzr.tokenize(x))\n",
    "df1.head()"
   ]
  },
  {
   "cell_type": "code",
   "execution_count": 18,
   "metadata": {
    "colab": {
     "base_uri": "https://localhost:8080/",
     "height": 425
    },
    "id": "kTO08tLFpPTA",
    "outputId": "f17efa5f-c776-4d59-8bfd-40f2aee261ac"
   },
   "outputs": [
    {
     "name": "stderr",
     "output_type": "stream",
     "text": [
      "[nltk_data] Downloading package stopwords to\n",
      "[nltk_data]     /Users/bengieru/nltk_data...\n",
      "[nltk_data]   Package stopwords is already up-to-date!\n"
     ]
    },
    {
     "data": {
      "text/html": [
       "<div>\n",
       "<style scoped>\n",
       "    .dataframe tbody tr th:only-of-type {\n",
       "        vertical-align: middle;\n",
       "    }\n",
       "\n",
       "    .dataframe tbody tr th {\n",
       "        vertical-align: top;\n",
       "    }\n",
       "\n",
       "    .dataframe thead th {\n",
       "        text-align: right;\n",
       "    }\n",
       "</style>\n",
       "<table border=\"1\" class=\"dataframe\">\n",
       "  <thead>\n",
       "    <tr style=\"text-align: right;\">\n",
       "      <th></th>\n",
       "      <th>text</th>\n",
       "      <th>label</th>\n",
       "      <th>source</th>\n",
       "      <th>url_handle_punc_upper_removed</th>\n",
       "      <th>msg_tokenied</th>\n",
       "      <th>no_stopwords</th>\n",
       "    </tr>\n",
       "  </thead>\n",
       "  <tbody>\n",
       "    <tr>\n",
       "      <th>0</th>\n",
       "      <td>sorry but sue from the mediweight advert looks...</td>\n",
       "      <td>False</td>\n",
       "      <td>3.0</td>\n",
       "      <td>sorry but sue from the mediweight advert looks...</td>\n",
       "      <td>[sorry, but, sue, from, the, mediweight, adver...</td>\n",
       "      <td>[sorry, sue, mediweight, advert, looks, incred...</td>\n",
       "    </tr>\n",
       "    <tr>\n",
       "      <th>1</th>\n",
       "      <td>@davesnyder since this is fantasy can it be an...</td>\n",
       "      <td>False</td>\n",
       "      <td>3.0</td>\n",
       "      <td>since this is fantasy can it be any individual...</td>\n",
       "      <td>[since, this, is, fantasy, can, it, be, any, i...</td>\n",
       "      <td>[since, fantasy, individual, time, alive, today]</td>\n",
       "    </tr>\n",
       "    <tr>\n",
       "      <th>2</th>\n",
       "      <td>Good times, fun times here in Grand old Britan...</td>\n",
       "      <td>True</td>\n",
       "      <td>3.0</td>\n",
       "      <td>good times fun times here in grand old britannia</td>\n",
       "      <td>[good, times, fun, times, here, in, grand, old...</td>\n",
       "      <td>[good, times, fun, times, grand, old, britannia]</td>\n",
       "    </tr>\n",
       "    <tr>\n",
       "      <th>3</th>\n",
       "      <td>I send light and love to all impacted by the #...</td>\n",
       "      <td>False</td>\n",
       "      <td>3.0</td>\n",
       "      <td>i send light and love to all impacted by the v...</td>\n",
       "      <td>[i, send, light, and, love, to, all, impacted,...</td>\n",
       "      <td>[send, light, love, impacted, vegasshooting, k...</td>\n",
       "    </tr>\n",
       "    <tr>\n",
       "      <th>4</th>\n",
       "      <td>Another year closer to death</td>\n",
       "      <td>False</td>\n",
       "      <td>3.0</td>\n",
       "      <td>another year closer to death</td>\n",
       "      <td>[another, year, closer, to, death]</td>\n",
       "      <td>[another, year, closer, death]</td>\n",
       "    </tr>\n",
       "  </tbody>\n",
       "</table>\n",
       "</div>"
      ],
      "text/plain": [
       "                                                text  label  source  \\\n",
       "0  sorry but sue from the mediweight advert looks...  False     3.0   \n",
       "1  @davesnyder since this is fantasy can it be an...  False     3.0   \n",
       "2  Good times, fun times here in Grand old Britan...   True     3.0   \n",
       "3  I send light and love to all impacted by the #...  False     3.0   \n",
       "4                       Another year closer to death  False     3.0   \n",
       "\n",
       "                       url_handle_punc_upper_removed  \\\n",
       "0  sorry but sue from the mediweight advert looks...   \n",
       "1  since this is fantasy can it be any individual...   \n",
       "2   good times fun times here in grand old britannia   \n",
       "3  i send light and love to all impacted by the v...   \n",
       "4                       another year closer to death   \n",
       "\n",
       "                                        msg_tokenied  \\\n",
       "0  [sorry, but, sue, from, the, mediweight, adver...   \n",
       "1  [since, this, is, fantasy, can, it, be, any, i...   \n",
       "2  [good, times, fun, times, here, in, grand, old...   \n",
       "3  [i, send, light, and, love, to, all, impacted,...   \n",
       "4                 [another, year, closer, to, death]   \n",
       "\n",
       "                                        no_stopwords  \n",
       "0  [sorry, sue, mediweight, advert, looks, incred...  \n",
       "1   [since, fantasy, individual, time, alive, today]  \n",
       "2   [good, times, fun, times, grand, old, britannia]  \n",
       "3  [send, light, love, impacted, vegasshooting, k...  \n",
       "4                     [another, year, closer, death]  "
      ]
     },
     "execution_count": 18,
     "metadata": {},
     "output_type": "execute_result"
    }
   ],
   "source": [
    "# removing stop words\n",
    "#importing nlp library\n",
    "import nltk\n",
    "nltk.download('stopwords')\n",
    "#Stop words present in the library\n",
    "stopwords = nltk.corpus.stopwords.words('english')\n",
    "# stopwords[0:10]\n",
    "#defining the function to remove stopwords from tokenized text\n",
    "def remove_stopwords(text):\n",
    "    output= [i for i in text if i not in stopwords]\n",
    "    return output\n",
    "\n",
    "#applying the function\n",
    "df1['no_stopwords']= df1['msg_tokenied'].apply(lambda x:remove_stopwords(x))\n",
    "df1.head()"
   ]
  },
  {
   "cell_type": "code",
   "execution_count": 19,
   "metadata": {
    "colab": {
     "base_uri": "https://localhost:8080/",
     "height": 476
    },
    "id": "1jtDFuGFmrRo",
    "outputId": "840994aa-e1f0-4e07-e015-e8fd9d5e536b"
   },
   "outputs": [
    {
     "data": {
      "text/html": [
       "<div>\n",
       "<style scoped>\n",
       "    .dataframe tbody tr th:only-of-type {\n",
       "        vertical-align: middle;\n",
       "    }\n",
       "\n",
       "    .dataframe tbody tr th {\n",
       "        vertical-align: top;\n",
       "    }\n",
       "\n",
       "    .dataframe thead th {\n",
       "        text-align: right;\n",
       "    }\n",
       "</style>\n",
       "<table border=\"1\" class=\"dataframe\">\n",
       "  <thead>\n",
       "    <tr style=\"text-align: right;\">\n",
       "      <th></th>\n",
       "      <th>text</th>\n",
       "      <th>label</th>\n",
       "      <th>source</th>\n",
       "      <th>url_handle_punc_upper_removed</th>\n",
       "      <th>msg_tokenied</th>\n",
       "      <th>no_stopwords</th>\n",
       "      <th>msg_stemmed</th>\n",
       "    </tr>\n",
       "  </thead>\n",
       "  <tbody>\n",
       "    <tr>\n",
       "      <th>0</th>\n",
       "      <td>sorry but sue from the mediweight advert looks...</td>\n",
       "      <td>False</td>\n",
       "      <td>3.0</td>\n",
       "      <td>sorry but sue from the mediweight advert looks...</td>\n",
       "      <td>[sorry, but, sue, from, the, mediweight, adver...</td>\n",
       "      <td>[sorry, sue, mediweight, advert, looks, incred...</td>\n",
       "      <td>[sorri, sue, mediweight, advert, look, incred,...</td>\n",
       "    </tr>\n",
       "    <tr>\n",
       "      <th>1</th>\n",
       "      <td>@davesnyder since this is fantasy can it be an...</td>\n",
       "      <td>False</td>\n",
       "      <td>3.0</td>\n",
       "      <td>since this is fantasy can it be any individual...</td>\n",
       "      <td>[since, this, is, fantasy, can, it, be, any, i...</td>\n",
       "      <td>[since, fantasy, individual, time, alive, today]</td>\n",
       "      <td>[sinc, fantasi, individu, time, aliv, today]</td>\n",
       "    </tr>\n",
       "    <tr>\n",
       "      <th>2</th>\n",
       "      <td>Good times, fun times here in Grand old Britan...</td>\n",
       "      <td>True</td>\n",
       "      <td>3.0</td>\n",
       "      <td>good times fun times here in grand old britannia</td>\n",
       "      <td>[good, times, fun, times, here, in, grand, old...</td>\n",
       "      <td>[good, times, fun, times, grand, old, britannia]</td>\n",
       "      <td>[good, time, fun, time, grand, old, britannia]</td>\n",
       "    </tr>\n",
       "    <tr>\n",
       "      <th>3</th>\n",
       "      <td>I send light and love to all impacted by the #...</td>\n",
       "      <td>False</td>\n",
       "      <td>3.0</td>\n",
       "      <td>i send light and love to all impacted by the v...</td>\n",
       "      <td>[i, send, light, and, love, to, all, impacted,...</td>\n",
       "      <td>[send, light, love, impacted, vegasshooting, k...</td>\n",
       "      <td>[send, light, love, impact, vegasshoot, know, ...</td>\n",
       "    </tr>\n",
       "    <tr>\n",
       "      <th>4</th>\n",
       "      <td>Another year closer to death</td>\n",
       "      <td>False</td>\n",
       "      <td>3.0</td>\n",
       "      <td>another year closer to death</td>\n",
       "      <td>[another, year, closer, to, death]</td>\n",
       "      <td>[another, year, closer, death]</td>\n",
       "      <td>[anoth, year, closer, death]</td>\n",
       "    </tr>\n",
       "  </tbody>\n",
       "</table>\n",
       "</div>"
      ],
      "text/plain": [
       "                                                text  label  source  \\\n",
       "0  sorry but sue from the mediweight advert looks...  False     3.0   \n",
       "1  @davesnyder since this is fantasy can it be an...  False     3.0   \n",
       "2  Good times, fun times here in Grand old Britan...   True     3.0   \n",
       "3  I send light and love to all impacted by the #...  False     3.0   \n",
       "4                       Another year closer to death  False     3.0   \n",
       "\n",
       "                       url_handle_punc_upper_removed  \\\n",
       "0  sorry but sue from the mediweight advert looks...   \n",
       "1  since this is fantasy can it be any individual...   \n",
       "2   good times fun times here in grand old britannia   \n",
       "3  i send light and love to all impacted by the v...   \n",
       "4                       another year closer to death   \n",
       "\n",
       "                                        msg_tokenied  \\\n",
       "0  [sorry, but, sue, from, the, mediweight, adver...   \n",
       "1  [since, this, is, fantasy, can, it, be, any, i...   \n",
       "2  [good, times, fun, times, here, in, grand, old...   \n",
       "3  [i, send, light, and, love, to, all, impacted,...   \n",
       "4                 [another, year, closer, to, death]   \n",
       "\n",
       "                                        no_stopwords  \\\n",
       "0  [sorry, sue, mediweight, advert, looks, incred...   \n",
       "1   [since, fantasy, individual, time, alive, today]   \n",
       "2   [good, times, fun, times, grand, old, britannia]   \n",
       "3  [send, light, love, impacted, vegasshooting, k...   \n",
       "4                     [another, year, closer, death]   \n",
       "\n",
       "                                         msg_stemmed  \n",
       "0  [sorri, sue, mediweight, advert, look, incred,...  \n",
       "1       [sinc, fantasi, individu, time, aliv, today]  \n",
       "2     [good, time, fun, time, grand, old, britannia]  \n",
       "3  [send, light, love, impact, vegasshoot, know, ...  \n",
       "4                       [anoth, year, closer, death]  "
      ]
     },
     "execution_count": 19,
     "metadata": {},
     "output_type": "execute_result"
    }
   ],
   "source": [
    "#importing the Stemming function from nltk library\n",
    "from nltk.stem.porter import PorterStemmer\n",
    "#defining the object for stemming\n",
    "porter_stemmer = PorterStemmer()\n",
    "#defining a function for stemming\n",
    "def stemming(text):\n",
    "    stem_text = [porter_stemmer.stem(word) for word in text]\n",
    "    return stem_text\n",
    "\n",
    "df1['msg_stemmed']=df1['no_stopwords'].apply(lambda x: stemming(x))\n",
    "df1.head()"
   ]
  },
  {
   "cell_type": "code",
   "execution_count": 20,
   "metadata": {
    "colab": {
     "base_uri": "https://localhost:8080/",
     "height": 646
    },
    "id": "SwHlnMj_mYzm",
    "outputId": "d6b3de1c-23d4-44ff-e1ac-adf2581fb854"
   },
   "outputs": [
    {
     "name": "stderr",
     "output_type": "stream",
     "text": [
      "[nltk_data] Downloading package wordnet to\n",
      "[nltk_data]     /Users/bengieru/nltk_data...\n",
      "[nltk_data]   Package wordnet is already up-to-date!\n"
     ]
    },
    {
     "data": {
      "text/html": [
       "<div>\n",
       "<style scoped>\n",
       "    .dataframe tbody tr th:only-of-type {\n",
       "        vertical-align: middle;\n",
       "    }\n",
       "\n",
       "    .dataframe tbody tr th {\n",
       "        vertical-align: top;\n",
       "    }\n",
       "\n",
       "    .dataframe thead th {\n",
       "        text-align: right;\n",
       "    }\n",
       "</style>\n",
       "<table border=\"1\" class=\"dataframe\">\n",
       "  <thead>\n",
       "    <tr style=\"text-align: right;\">\n",
       "      <th></th>\n",
       "      <th>text</th>\n",
       "      <th>label</th>\n",
       "      <th>source</th>\n",
       "      <th>url_handle_punc_upper_removed</th>\n",
       "      <th>msg_tokenied</th>\n",
       "      <th>no_stopwords</th>\n",
       "      <th>msg_stemmed</th>\n",
       "      <th>msg_lemmatized</th>\n",
       "    </tr>\n",
       "  </thead>\n",
       "  <tbody>\n",
       "    <tr>\n",
       "      <th>0</th>\n",
       "      <td>sorry but sue from the mediweight advert looks...</td>\n",
       "      <td>False</td>\n",
       "      <td>3.0</td>\n",
       "      <td>sorry but sue from the mediweight advert looks...</td>\n",
       "      <td>[sorry, but, sue, from, the, mediweight, adver...</td>\n",
       "      <td>[sorry, sue, mediweight, advert, looks, incred...</td>\n",
       "      <td>[sorri, sue, mediweight, advert, look, incred,...</td>\n",
       "      <td>[sorry, sue, mediweight, advert, look, incredi...</td>\n",
       "    </tr>\n",
       "    <tr>\n",
       "      <th>1</th>\n",
       "      <td>@davesnyder since this is fantasy can it be an...</td>\n",
       "      <td>False</td>\n",
       "      <td>3.0</td>\n",
       "      <td>since this is fantasy can it be any individual...</td>\n",
       "      <td>[since, this, is, fantasy, can, it, be, any, i...</td>\n",
       "      <td>[since, fantasy, individual, time, alive, today]</td>\n",
       "      <td>[sinc, fantasi, individu, time, aliv, today]</td>\n",
       "      <td>[since, fantasy, individual, time, alive, today]</td>\n",
       "    </tr>\n",
       "    <tr>\n",
       "      <th>2</th>\n",
       "      <td>Good times, fun times here in Grand old Britan...</td>\n",
       "      <td>True</td>\n",
       "      <td>3.0</td>\n",
       "      <td>good times fun times here in grand old britannia</td>\n",
       "      <td>[good, times, fun, times, here, in, grand, old...</td>\n",
       "      <td>[good, times, fun, times, grand, old, britannia]</td>\n",
       "      <td>[good, time, fun, time, grand, old, britannia]</td>\n",
       "      <td>[good, time, fun, time, grand, old, britannia]</td>\n",
       "    </tr>\n",
       "    <tr>\n",
       "      <th>3</th>\n",
       "      <td>I send light and love to all impacted by the #...</td>\n",
       "      <td>False</td>\n",
       "      <td>3.0</td>\n",
       "      <td>i send light and love to all impacted by the v...</td>\n",
       "      <td>[i, send, light, and, love, to, all, impacted,...</td>\n",
       "      <td>[send, light, love, impacted, vegasshooting, k...</td>\n",
       "      <td>[send, light, love, impact, vegasshoot, know, ...</td>\n",
       "      <td>[send, light, love, impacted, vegasshooting, k...</td>\n",
       "    </tr>\n",
       "    <tr>\n",
       "      <th>4</th>\n",
       "      <td>Another year closer to death</td>\n",
       "      <td>False</td>\n",
       "      <td>3.0</td>\n",
       "      <td>another year closer to death</td>\n",
       "      <td>[another, year, closer, to, death]</td>\n",
       "      <td>[another, year, closer, death]</td>\n",
       "      <td>[anoth, year, closer, death]</td>\n",
       "      <td>[another, year, closer, death]</td>\n",
       "    </tr>\n",
       "  </tbody>\n",
       "</table>\n",
       "</div>"
      ],
      "text/plain": [
       "                                                text  label  source  \\\n",
       "0  sorry but sue from the mediweight advert looks...  False     3.0   \n",
       "1  @davesnyder since this is fantasy can it be an...  False     3.0   \n",
       "2  Good times, fun times here in Grand old Britan...   True     3.0   \n",
       "3  I send light and love to all impacted by the #...  False     3.0   \n",
       "4                       Another year closer to death  False     3.0   \n",
       "\n",
       "                       url_handle_punc_upper_removed  \\\n",
       "0  sorry but sue from the mediweight advert looks...   \n",
       "1  since this is fantasy can it be any individual...   \n",
       "2   good times fun times here in grand old britannia   \n",
       "3  i send light and love to all impacted by the v...   \n",
       "4                       another year closer to death   \n",
       "\n",
       "                                        msg_tokenied  \\\n",
       "0  [sorry, but, sue, from, the, mediweight, adver...   \n",
       "1  [since, this, is, fantasy, can, it, be, any, i...   \n",
       "2  [good, times, fun, times, here, in, grand, old...   \n",
       "3  [i, send, light, and, love, to, all, impacted,...   \n",
       "4                 [another, year, closer, to, death]   \n",
       "\n",
       "                                        no_stopwords  \\\n",
       "0  [sorry, sue, mediweight, advert, looks, incred...   \n",
       "1   [since, fantasy, individual, time, alive, today]   \n",
       "2   [good, times, fun, times, grand, old, britannia]   \n",
       "3  [send, light, love, impacted, vegasshooting, k...   \n",
       "4                     [another, year, closer, death]   \n",
       "\n",
       "                                         msg_stemmed  \\\n",
       "0  [sorri, sue, mediweight, advert, look, incred,...   \n",
       "1       [sinc, fantasi, individu, time, aliv, today]   \n",
       "2     [good, time, fun, time, grand, old, britannia]   \n",
       "3  [send, light, love, impact, vegasshoot, know, ...   \n",
       "4                       [anoth, year, closer, death]   \n",
       "\n",
       "                                      msg_lemmatized  \n",
       "0  [sorry, sue, mediweight, advert, look, incredi...  \n",
       "1   [since, fantasy, individual, time, alive, today]  \n",
       "2     [good, time, fun, time, grand, old, britannia]  \n",
       "3  [send, light, love, impacted, vegasshooting, k...  \n",
       "4                     [another, year, closer, death]  "
      ]
     },
     "execution_count": 20,
     "metadata": {},
     "output_type": "execute_result"
    }
   ],
   "source": [
    "from nltk.stem import WordNetLemmatizer\n",
    "#defining the object for Lemmatization\n",
    "wordnet_lemmatizer = WordNetLemmatizer()\n",
    "nltk.download('wordnet')\n",
    "#defining the function for lemmatization\n",
    "def lemmatizer(text):\n",
    "    lemm_text = [wordnet_lemmatizer.lemmatize(word) for word in text]\n",
    "    return lemm_text\n",
    "\n",
    "df1['msg_lemmatized']=df1['no_stopwords'].apply(lambda x:lemmatizer(x))\n",
    "df1.head()"
   ]
  },
  {
   "cell_type": "code",
   "execution_count": 21,
   "metadata": {
    "colab": {
     "base_uri": "https://localhost:8080/",
     "height": 408
    },
    "id": "84YFjtzyorwk",
    "outputId": "05802d92-95fe-4f58-a9e5-9fa618d0d2fb"
   },
   "outputs": [
    {
     "data": {
      "text/html": [
       "<div>\n",
       "<style scoped>\n",
       "    .dataframe tbody tr th:only-of-type {\n",
       "        vertical-align: middle;\n",
       "    }\n",
       "\n",
       "    .dataframe tbody tr th {\n",
       "        vertical-align: top;\n",
       "    }\n",
       "\n",
       "    .dataframe thead th {\n",
       "        text-align: right;\n",
       "    }\n",
       "</style>\n",
       "<table border=\"1\" class=\"dataframe\">\n",
       "  <thead>\n",
       "    <tr style=\"text-align: right;\">\n",
       "      <th></th>\n",
       "      <th>text</th>\n",
       "      <th>label</th>\n",
       "      <th>source</th>\n",
       "      <th>url_handle_punc_upper_removed</th>\n",
       "      <th>msg_tokenied</th>\n",
       "      <th>no_stopwords</th>\n",
       "      <th>msg_stemmed</th>\n",
       "      <th>msg_lemmatized</th>\n",
       "      <th>final</th>\n",
       "    </tr>\n",
       "  </thead>\n",
       "  <tbody>\n",
       "    <tr>\n",
       "      <th>0</th>\n",
       "      <td>sorry but sue from the mediweight advert looks...</td>\n",
       "      <td>False</td>\n",
       "      <td>3.0</td>\n",
       "      <td>sorry but sue from the mediweight advert looks...</td>\n",
       "      <td>[sorry, but, sue, from, the, mediweight, adver...</td>\n",
       "      <td>[sorry, sue, mediweight, advert, looks, incred...</td>\n",
       "      <td>[sorri, sue, mediweight, advert, look, incred,...</td>\n",
       "      <td>[sorry, sue, mediweight, advert, look, incredi...</td>\n",
       "      <td>sorry sue mediweight advert look incredible go...</td>\n",
       "    </tr>\n",
       "    <tr>\n",
       "      <th>1</th>\n",
       "      <td>@davesnyder since this is fantasy can it be an...</td>\n",
       "      <td>False</td>\n",
       "      <td>3.0</td>\n",
       "      <td>since this is fantasy can it be any individual...</td>\n",
       "      <td>[since, this, is, fantasy, can, it, be, any, i...</td>\n",
       "      <td>[since, fantasy, individual, time, alive, today]</td>\n",
       "      <td>[sinc, fantasi, individu, time, aliv, today]</td>\n",
       "      <td>[since, fantasy, individual, time, alive, today]</td>\n",
       "      <td>since fantasy individual time alive today</td>\n",
       "    </tr>\n",
       "    <tr>\n",
       "      <th>2</th>\n",
       "      <td>Good times, fun times here in Grand old Britan...</td>\n",
       "      <td>True</td>\n",
       "      <td>3.0</td>\n",
       "      <td>good times fun times here in grand old britannia</td>\n",
       "      <td>[good, times, fun, times, here, in, grand, old...</td>\n",
       "      <td>[good, times, fun, times, grand, old, britannia]</td>\n",
       "      <td>[good, time, fun, time, grand, old, britannia]</td>\n",
       "      <td>[good, time, fun, time, grand, old, britannia]</td>\n",
       "      <td>good time fun time grand old britannia</td>\n",
       "    </tr>\n",
       "    <tr>\n",
       "      <th>3</th>\n",
       "      <td>I send light and love to all impacted by the #...</td>\n",
       "      <td>False</td>\n",
       "      <td>3.0</td>\n",
       "      <td>i send light and love to all impacted by the v...</td>\n",
       "      <td>[i, send, light, and, love, to, all, impacted,...</td>\n",
       "      <td>[send, light, love, impacted, vegasshooting, k...</td>\n",
       "      <td>[send, light, love, impact, vegasshoot, know, ...</td>\n",
       "      <td>[send, light, love, impacted, vegasshooting, k...</td>\n",
       "      <td>send light love impacted vegasshooting know lo...</td>\n",
       "    </tr>\n",
       "    <tr>\n",
       "      <th>4</th>\n",
       "      <td>Another year closer to death</td>\n",
       "      <td>False</td>\n",
       "      <td>3.0</td>\n",
       "      <td>another year closer to death</td>\n",
       "      <td>[another, year, closer, to, death]</td>\n",
       "      <td>[another, year, closer, death]</td>\n",
       "      <td>[anoth, year, closer, death]</td>\n",
       "      <td>[another, year, closer, death]</td>\n",
       "      <td>another year closer death</td>\n",
       "    </tr>\n",
       "  </tbody>\n",
       "</table>\n",
       "</div>"
      ],
      "text/plain": [
       "                                                text  label  source  \\\n",
       "0  sorry but sue from the mediweight advert looks...  False     3.0   \n",
       "1  @davesnyder since this is fantasy can it be an...  False     3.0   \n",
       "2  Good times, fun times here in Grand old Britan...   True     3.0   \n",
       "3  I send light and love to all impacted by the #...  False     3.0   \n",
       "4                       Another year closer to death  False     3.0   \n",
       "\n",
       "                       url_handle_punc_upper_removed  \\\n",
       "0  sorry but sue from the mediweight advert looks...   \n",
       "1  since this is fantasy can it be any individual...   \n",
       "2   good times fun times here in grand old britannia   \n",
       "3  i send light and love to all impacted by the v...   \n",
       "4                       another year closer to death   \n",
       "\n",
       "                                        msg_tokenied  \\\n",
       "0  [sorry, but, sue, from, the, mediweight, adver...   \n",
       "1  [since, this, is, fantasy, can, it, be, any, i...   \n",
       "2  [good, times, fun, times, here, in, grand, old...   \n",
       "3  [i, send, light, and, love, to, all, impacted,...   \n",
       "4                 [another, year, closer, to, death]   \n",
       "\n",
       "                                        no_stopwords  \\\n",
       "0  [sorry, sue, mediweight, advert, looks, incred...   \n",
       "1   [since, fantasy, individual, time, alive, today]   \n",
       "2   [good, times, fun, times, grand, old, britannia]   \n",
       "3  [send, light, love, impacted, vegasshooting, k...   \n",
       "4                     [another, year, closer, death]   \n",
       "\n",
       "                                         msg_stemmed  \\\n",
       "0  [sorri, sue, mediweight, advert, look, incred,...   \n",
       "1       [sinc, fantasi, individu, time, aliv, today]   \n",
       "2     [good, time, fun, time, grand, old, britannia]   \n",
       "3  [send, light, love, impact, vegasshoot, know, ...   \n",
       "4                       [anoth, year, closer, death]   \n",
       "\n",
       "                                      msg_lemmatized  \\\n",
       "0  [sorry, sue, mediweight, advert, look, incredi...   \n",
       "1   [since, fantasy, individual, time, alive, today]   \n",
       "2     [good, time, fun, time, grand, old, britannia]   \n",
       "3  [send, light, love, impacted, vegasshooting, k...   \n",
       "4                     [another, year, closer, death]   \n",
       "\n",
       "                                               final  \n",
       "0  sorry sue mediweight advert look incredible go...  \n",
       "1          since fantasy individual time alive today  \n",
       "2             good time fun time grand old britannia  \n",
       "3  send light love impacted vegasshooting know lo...  \n",
       "4                          another year closer death  "
      ]
     },
     "execution_count": 21,
     "metadata": {},
     "output_type": "execute_result"
    }
   ],
   "source": [
    "# detokenize the tweet again\n",
    "df2 = df1.copy()\n",
    "\n",
    "from nltk.tokenize.treebank import TreebankWordDetokenizer\n",
    "df2['final'] = df2['msg_lemmatized'].apply(lambda x:TreebankWordDetokenizer().detokenize(x))\n",
    "df2.head()"
   ]
  },
  {
   "cell_type": "code",
   "execution_count": 22,
   "metadata": {
    "colab": {
     "base_uri": "https://localhost:8080/"
    },
    "id": "cZ-GM6RiwwdH",
    "outputId": "e3964a9a-921a-499d-8b94-8cd54a1fa8e9"
   },
   "outputs": [
    {
     "data": {
      "text/plain": [
       "Index(['text', 'label', 'source', 'url_handle_punc_upper_removed',\n",
       "       'msg_tokenied', 'no_stopwords', 'msg_stemmed', 'msg_lemmatized',\n",
       "       'final'],\n",
       "      dtype='object')"
      ]
     },
     "execution_count": 22,
     "metadata": {},
     "output_type": "execute_result"
    }
   ],
   "source": [
    "df2.columns"
   ]
  },
  {
   "cell_type": "code",
   "execution_count": 23,
   "metadata": {},
   "outputs": [
    {
     "data": {
      "text/html": [
       "<div>\n",
       "<style scoped>\n",
       "    .dataframe tbody tr th:only-of-type {\n",
       "        vertical-align: middle;\n",
       "    }\n",
       "\n",
       "    .dataframe tbody tr th {\n",
       "        vertical-align: top;\n",
       "    }\n",
       "\n",
       "    .dataframe thead th {\n",
       "        text-align: right;\n",
       "    }\n",
       "</style>\n",
       "<table border=\"1\" class=\"dataframe\">\n",
       "  <thead>\n",
       "    <tr style=\"text-align: right;\">\n",
       "      <th></th>\n",
       "      <th>text</th>\n",
       "      <th>label</th>\n",
       "      <th>source</th>\n",
       "      <th>url_handle_punc_upper_removed</th>\n",
       "      <th>final</th>\n",
       "    </tr>\n",
       "  </thead>\n",
       "  <tbody>\n",
       "    <tr>\n",
       "      <th>0</th>\n",
       "      <td>sorry but sue from the mediweight advert looks...</td>\n",
       "      <td>False</td>\n",
       "      <td>3.0</td>\n",
       "      <td>sorry but sue from the mediweight advert looks...</td>\n",
       "      <td>sorry sue mediweight advert look incredible go...</td>\n",
       "    </tr>\n",
       "    <tr>\n",
       "      <th>1</th>\n",
       "      <td>@davesnyder since this is fantasy can it be an...</td>\n",
       "      <td>False</td>\n",
       "      <td>3.0</td>\n",
       "      <td>since this is fantasy can it be any individual...</td>\n",
       "      <td>since fantasy individual time alive today</td>\n",
       "    </tr>\n",
       "    <tr>\n",
       "      <th>2</th>\n",
       "      <td>Good times, fun times here in Grand old Britan...</td>\n",
       "      <td>True</td>\n",
       "      <td>3.0</td>\n",
       "      <td>good times fun times here in grand old britannia</td>\n",
       "      <td>good time fun time grand old britannia</td>\n",
       "    </tr>\n",
       "    <tr>\n",
       "      <th>3</th>\n",
       "      <td>I send light and love to all impacted by the #...</td>\n",
       "      <td>False</td>\n",
       "      <td>3.0</td>\n",
       "      <td>i send light and love to all impacted by the v...</td>\n",
       "      <td>send light love impacted vegasshooting know lo...</td>\n",
       "    </tr>\n",
       "    <tr>\n",
       "      <th>4</th>\n",
       "      <td>Another year closer to death</td>\n",
       "      <td>False</td>\n",
       "      <td>3.0</td>\n",
       "      <td>another year closer to death</td>\n",
       "      <td>another year closer death</td>\n",
       "    </tr>\n",
       "  </tbody>\n",
       "</table>\n",
       "</div>"
      ],
      "text/plain": [
       "                                                text  label  source  \\\n",
       "0  sorry but sue from the mediweight advert looks...  False     3.0   \n",
       "1  @davesnyder since this is fantasy can it be an...  False     3.0   \n",
       "2  Good times, fun times here in Grand old Britan...   True     3.0   \n",
       "3  I send light and love to all impacted by the #...  False     3.0   \n",
       "4                       Another year closer to death  False     3.0   \n",
       "\n",
       "                       url_handle_punc_upper_removed  \\\n",
       "0  sorry but sue from the mediweight advert looks...   \n",
       "1  since this is fantasy can it be any individual...   \n",
       "2   good times fun times here in grand old britannia   \n",
       "3  i send light and love to all impacted by the v...   \n",
       "4                       another year closer to death   \n",
       "\n",
       "                                               final  \n",
       "0  sorry sue mediweight advert look incredible go...  \n",
       "1          since fantasy individual time alive today  \n",
       "2             good time fun time grand old britannia  \n",
       "3  send light love impacted vegasshooting know lo...  \n",
       "4                          another year closer death  "
      ]
     },
     "execution_count": 23,
     "metadata": {},
     "output_type": "execute_result"
    }
   ],
   "source": [
    "del df2['msg_tokenied']\n",
    "del df2['no_stopwords']\n",
    "del df2['msg_stemmed']\n",
    "del df2['msg_lemmatized']\n",
    "df2.head()"
   ]
  },
  {
   "cell_type": "code",
   "execution_count": 24,
   "metadata": {
    "colab": {
     "base_uri": "https://localhost:8080/"
    },
    "id": "AUGg7QOngC2u",
    "outputId": "01edb0d7-d30f-4680-9700-cc65673d2cc5"
   },
   "outputs": [
    {
     "name": "stdout",
     "output_type": "stream",
     "text": [
      "(3556,)\n"
     ]
    }
   ],
   "source": [
    "# let's play with the lemmatized text to see how it's accuracy fairs\n",
    "X = df2.final.values\n",
    "print(X.shape)\n",
    "# Changes values from [0,4] to [0,1]\n",
    "y = (df2.label.values >= 1).astype(int)\n",
    "\n",
    "\n",
    "# Split the data into train and test\n",
    "x_train_text, x_test_text, y_train, y_test = train_test_split(X, y, test_size=0.2, random_state=42,stratify=y)"
   ]
  },
  {
   "cell_type": "code",
   "execution_count": 25,
   "metadata": {
    "colab": {
     "base_uri": "https://localhost:8080/"
    },
    "id": "IGn5lU07SdWO",
    "outputId": "c0fa87aa-0559-4db1-9481-22ccf8de8007"
   },
   "outputs": [
    {
     "name": "stdout",
     "output_type": "stream",
     "text": [
      "0: psa stop using fucking r word describing thing people\n",
      "0: happened responsibility guess tax payer pick bill chose get insured\n",
      "0: airdropping neighbor lot lately\n",
      "0: today brake deer three separate occasion suppose better breaking four deer austintx\n",
      "0: holy war nickname college football game u utah brigham young u n nboth school located utah one religious state union lds mormon game played tonight nationally televised\n"
     ]
    }
   ],
   "source": [
    "for s, l in zip(x_train_text[:5], y_train[:5]):\n",
    "    print('{}: {}'.format(l, s))"
   ]
  },
  {
   "cell_type": "markdown",
   "metadata": {
    "id": "w8gfFuv0X4Gi"
   },
   "source": [
    "An interesting thing to analyze is the Word Distribution. In order to count the occurrences of each word, we should tokenize the sentences first."
   ]
  },
  {
   "cell_type": "code",
   "execution_count": 26,
   "metadata": {
    "id": "lUqkevQiX65k"
   },
   "outputs": [],
   "source": [
    "tokenizer = get_tokenizer(\"basic_english\")\n",
    "\n",
    "# print('Before Tokenize: ', x_train_text[4])\n",
    "# print('After Tokenize: ', tokenizer(x_train_text[4]))"
   ]
  },
  {
   "cell_type": "code",
   "execution_count": 27,
   "metadata": {
    "colab": {
     "base_uri": "https://localhost:8080/",
     "height": 115,
     "referenced_widgets": [
      "3e297259defd4e27a2a1352c84d8322a",
      "c584ca7eaf934566afadeca66567ac59",
      "b941c45c83ed48c1a3b79bf969f9730f",
      "149501605fe14e6d8bffe71cef7a6f01",
      "284a6d3c6297438fa237c2281eaed4d6",
      "c67c86302f0a45e78508309ee78d5525",
      "99f00d6ff58e4d2e9a9e7b8654c5d8ae",
      "7913e6590ce943a282a81fab33dcd3a2",
      "2ba33be356f84aef80df5984374cc49a",
      "34e89231ee5b448580b83d35a5db7fc1",
      "fbe55d97aa2d4947851af6f3113b8945",
      "8064e13cb6ba434ab61a38fec261a19f",
      "87d98a8b4eaa46dcb917bbabdc6c43b9",
      "91d96bf314d849568665b8fef10a51ad",
      "9b8d8baae2104172a2ccf62cd6ed2913",
      "c60df60c0a5f49feb847a69569bf34b3"
     ]
    },
    "id": "lAYcpQGDZMq-",
    "outputId": "1bd9b66b-88cf-4a4a-ca98-94e420149ec4"
   },
   "outputs": [
    {
     "data": {
      "application/vnd.jupyter.widget-view+json": {
       "model_id": "089be3eb107248878d45ef030e1cdf70",
       "version_major": 2,
       "version_minor": 0
      },
      "text/plain": [
       "  0%|          | 0/2844 [00:00<?, ?it/s]"
      ]
     },
     "metadata": {},
     "output_type": "display_data"
    },
    {
     "data": {
      "application/vnd.jupyter.widget-view+json": {
       "model_id": "d2d9fa6843214876a173ba8fdae99fcd",
       "version_major": 2,
       "version_minor": 0
      },
      "text/plain": [
       "  0%|          | 0/712 [00:00<?, ?it/s]"
      ]
     },
     "metadata": {},
     "output_type": "display_data"
    }
   ],
   "source": [
    "x_train_token = [tokenizer(s) for s in tqdm(x_train_text)]\n",
    "x_test_token = [tokenizer(s) for s in tqdm(x_test_text)]"
   ]
  },
  {
   "cell_type": "markdown",
   "metadata": {
    "id": "hM6eJm-2Zm94"
   },
   "source": [
    "We can count the words occurences and see how many different words are present in our dataset."
   ]
  },
  {
   "cell_type": "code",
   "execution_count": 28,
   "metadata": {
    "colab": {
     "base_uri": "https://localhost:8080/"
    },
    "id": "pPvS90JOZl18",
    "outputId": "4291ff86-b991-42ad-9a2f-3f2b5be1c3b1"
   },
   "outputs": [
    {
     "name": "stdout",
     "output_type": "stream",
     "text": [
      "Number of different Tokens in our Dataset: 8880\n",
      "['n', 'like', 'get', 'one', 'day', 'im', 'time', 'love', 'year', 'people', 'good', 'back', 'today', 'new', 'dont', 'go', 'really', 'need', 'make', 'thing']\n"
     ]
    }
   ],
   "source": [
    "words = Counter()\n",
    "for s in x_train_token:\n",
    "    for w in s:\n",
    "        words[w] += 1\n",
    "\n",
    "sorted_words = list(words.keys())\n",
    "sorted_words.sort(key=lambda w: words[w], reverse=True)\n",
    "print(f\"Number of different Tokens in our Dataset: {len(sorted_words)}\")\n",
    "print(sorted_words[:20])"
   ]
  },
  {
   "cell_type": "markdown",
   "metadata": {
    "id": "xN9R1VhPa2GW"
   },
   "source": [
    "Now we can plot their distribution."
   ]
  },
  {
   "cell_type": "code",
   "execution_count": 29,
   "metadata": {
    "colab": {
     "base_uri": "https://localhost:8080/"
    },
    "id": "zEyCGZNpa2Ue",
    "outputId": "9c2939fc-40c6-4136-f891-9c0e7f8ed40e"
   },
   "outputs": [
    {
     "name": "stdout",
     "output_type": "stream",
     "text": [
      "The 35.281531531531535% most common words account for the 80.00199448193332% of the occurrences\n"
     ]
    }
   ],
   "source": [
    "count_occurences = sum(words.values())\n",
    "\n",
    "accumulated = 0\n",
    "counter = 0\n",
    "\n",
    "while accumulated < count_occurences * 0.8:\n",
    "    accumulated += words[sorted_words[counter]]\n",
    "    counter += 1\n",
    "\n",
    "print(f\"The {counter * 100 / len(words)}% most common words \"\n",
    "      f\"account for the {accumulated * 100 / count_occurences}% of the occurrences\")"
   ]
  },
  {
   "cell_type": "code",
   "execution_count": 30,
   "metadata": {
    "colab": {
     "base_uri": "https://localhost:8080/",
     "height": 265
    },
    "id": "7jvhstsHcSNR",
    "outputId": "72d00e10-057e-449c-e559-518bfb9d44ca"
   },
   "outputs": [
    {
     "data": {
      "image/png": "[encoded data removed]",
      "text/plain": [
       "<Figure size 432x288 with 1 Axes>"
      ]
     },
     "metadata": {
      "needs_background": "light"
     },
     "output_type": "display_data"
    }
   ],
   "source": [
    "plt.bar(range(100), [words[w] for w in sorted_words[:100]])\n",
    "plt.show()"
   ]
  },
  {
   "cell_type": "code",
   "execution_count": 31,
   "metadata": {
    "colab": {
     "base_uri": "https://localhost:8080/"
    },
    "id": "Fvy0GYdauftW",
    "outputId": "e93e736f-d188-4eaf-a120-381981769063"
   },
   "outputs": [
    {
     "name": "stdout",
     "output_type": "stream",
     "text": [
      "n 282\n",
      "like 211\n",
      "get 179\n",
      "one 164\n",
      "day 163\n",
      "im 162\n",
      "time 160\n",
      "love 155\n",
      "year 129\n",
      "people 124\n"
     ]
    }
   ],
   "source": [
    "for w in sorted_words[:10]:\n",
    "    print(w, words[w])"
   ]
  },
  {
   "cell_type": "code",
   "execution_count": 32,
   "metadata": {},
   "outputs": [
    {
     "data": {
      "text/html": [
       "<div>\n",
       "<style scoped>\n",
       "    .dataframe tbody tr th:only-of-type {\n",
       "        vertical-align: middle;\n",
       "    }\n",
       "\n",
       "    .dataframe tbody tr th {\n",
       "        vertical-align: top;\n",
       "    }\n",
       "\n",
       "    .dataframe thead th {\n",
       "        text-align: right;\n",
       "    }\n",
       "</style>\n",
       "<table border=\"1\" class=\"dataframe\">\n",
       "  <thead>\n",
       "    <tr style=\"text-align: right;\">\n",
       "      <th></th>\n",
       "      <th>text</th>\n",
       "      <th>label</th>\n",
       "      <th>source</th>\n",
       "      <th>url_handle_punc_upper_removed</th>\n",
       "      <th>final</th>\n",
       "    </tr>\n",
       "  </thead>\n",
       "  <tbody>\n",
       "    <tr>\n",
       "      <th>0</th>\n",
       "      <td>sorry but sue from the mediweight advert looks...</td>\n",
       "      <td>False</td>\n",
       "      <td>3.0</td>\n",
       "      <td>sorry but sue from the mediweight advert looks...</td>\n",
       "      <td>sorry sue mediweight advert look incredible go...</td>\n",
       "    </tr>\n",
       "    <tr>\n",
       "      <th>1</th>\n",
       "      <td>@davesnyder since this is fantasy can it be an...</td>\n",
       "      <td>False</td>\n",
       "      <td>3.0</td>\n",
       "      <td>since this is fantasy can it be any individual...</td>\n",
       "      <td>since fantasy individual time alive today</td>\n",
       "    </tr>\n",
       "    <tr>\n",
       "      <th>2</th>\n",
       "      <td>Good times, fun times here in Grand old Britan...</td>\n",
       "      <td>True</td>\n",
       "      <td>3.0</td>\n",
       "      <td>good times fun times here in grand old britannia</td>\n",
       "      <td>good time fun time grand old britannia</td>\n",
       "    </tr>\n",
       "    <tr>\n",
       "      <th>3</th>\n",
       "      <td>I send light and love to all impacted by the #...</td>\n",
       "      <td>False</td>\n",
       "      <td>3.0</td>\n",
       "      <td>i send light and love to all impacted by the v...</td>\n",
       "      <td>send light love impacted vegasshooting know lo...</td>\n",
       "    </tr>\n",
       "    <tr>\n",
       "      <th>4</th>\n",
       "      <td>Another year closer to death</td>\n",
       "      <td>False</td>\n",
       "      <td>3.0</td>\n",
       "      <td>another year closer to death</td>\n",
       "      <td>another year closer death</td>\n",
       "    </tr>\n",
       "  </tbody>\n",
       "</table>\n",
       "</div>"
      ],
      "text/plain": [
       "                                                text  label  source  \\\n",
       "0  sorry but sue from the mediweight advert looks...  False     3.0   \n",
       "1  @davesnyder since this is fantasy can it be an...  False     3.0   \n",
       "2  Good times, fun times here in Grand old Britan...   True     3.0   \n",
       "3  I send light and love to all impacted by the #...  False     3.0   \n",
       "4                       Another year closer to death  False     3.0   \n",
       "\n",
       "                       url_handle_punc_upper_removed  \\\n",
       "0  sorry but sue from the mediweight advert looks...   \n",
       "1  since this is fantasy can it be any individual...   \n",
       "2   good times fun times here in grand old britannia   \n",
       "3  i send light and love to all impacted by the v...   \n",
       "4                       another year closer to death   \n",
       "\n",
       "                                               final  \n",
       "0  sorry sue mediweight advert look incredible go...  \n",
       "1          since fantasy individual time alive today  \n",
       "2             good time fun time grand old britannia  \n",
       "3  send light love impacted vegasshooting know lo...  \n",
       "4                          another year closer death  "
      ]
     },
     "execution_count": 32,
     "metadata": {},
     "output_type": "execute_result"
    }
   ],
   "source": [
    "final_data = df2.copy()\n",
    "final_data.head()"
   ]
  },
  {
   "cell_type": "code",
   "execution_count": 33,
   "metadata": {},
   "outputs": [
    {
     "data": {
      "text/html": [
       "<div>\n",
       "<style scoped>\n",
       "    .dataframe tbody tr th:only-of-type {\n",
       "        vertical-align: middle;\n",
       "    }\n",
       "\n",
       "    .dataframe tbody tr th {\n",
       "        vertical-align: top;\n",
       "    }\n",
       "\n",
       "    .dataframe thead th {\n",
       "        text-align: right;\n",
       "    }\n",
       "</style>\n",
       "<table border=\"1\" class=\"dataframe\">\n",
       "  <thead>\n",
       "    <tr style=\"text-align: right;\">\n",
       "      <th></th>\n",
       "      <th>text</th>\n",
       "      <th>label</th>\n",
       "      <th>source</th>\n",
       "    </tr>\n",
       "  </thead>\n",
       "  <tbody>\n",
       "    <tr>\n",
       "      <th>0</th>\n",
       "      <td>sorry sue mediweight advert look incredible go...</td>\n",
       "      <td>False</td>\n",
       "      <td>3.0</td>\n",
       "    </tr>\n",
       "    <tr>\n",
       "      <th>1</th>\n",
       "      <td>since fantasy individual time alive today</td>\n",
       "      <td>False</td>\n",
       "      <td>3.0</td>\n",
       "    </tr>\n",
       "    <tr>\n",
       "      <th>2</th>\n",
       "      <td>good time fun time grand old britannia</td>\n",
       "      <td>True</td>\n",
       "      <td>3.0</td>\n",
       "    </tr>\n",
       "    <tr>\n",
       "      <th>3</th>\n",
       "      <td>send light love impacted vegasshooting know lo...</td>\n",
       "      <td>False</td>\n",
       "      <td>3.0</td>\n",
       "    </tr>\n",
       "    <tr>\n",
       "      <th>4</th>\n",
       "      <td>another year closer death</td>\n",
       "      <td>False</td>\n",
       "      <td>3.0</td>\n",
       "    </tr>\n",
       "  </tbody>\n",
       "</table>\n",
       "</div>"
      ],
      "text/plain": [
       "                                                text  label  source\n",
       "0  sorry sue mediweight advert look incredible go...  False     3.0\n",
       "1          since fantasy individual time alive today  False     3.0\n",
       "2             good time fun time grand old britannia   True     3.0\n",
       "3  send light love impacted vegasshooting know lo...  False     3.0\n",
       "4                          another year closer death  False     3.0"
      ]
     },
     "execution_count": 33,
     "metadata": {},
     "output_type": "execute_result"
    }
   ],
   "source": [
    "del final_data['url_handle_punc_upper_removed']\n",
    "final_data['text'] = final_data['final']\n",
    "del final_data['final']\n",
    "final_data.head()"
   ]
  },
  {
   "cell_type": "code",
   "execution_count": 34,
   "metadata": {},
   "outputs": [],
   "source": [
    "final_data.to_csv(path + 'finaldata/train_test.csv')"
   ]
  },
  {
   "cell_type": "markdown",
   "metadata": {
    "id": "elperfLLpE2y"
   },
   "source": [
    "It is very common to find this kind of distribution when analyzing corpus of text. This is referred to as the [zipf's law](https://en.wikipedia.org/wiki/Zipf%27s_law)."
   ]
  },
  {
   "cell_type": "markdown",
   "metadata": {
    "id": "Viv6pwuRc6Z9"
   },
   "source": [
    "Usually the number of words in the dictionary will be very large. \n",
    "\n",
    "Here are some thing we can do to reduce that number:\n",
    "\n",
    "* Remove puntuation.\n",
    "* Remove stop-words.\n",
    "* Steaming.\n",
    "* Remove very uncommon words (the words that appears in fewer than N occations).\n",
    "* Nothing: we can use a pretrain model that handles this kind of situations.\n",
    "\n",
    "\n",
    "We used one of the simplest tokenizers availables. This tokenizer does not take into account many quirks of the language. Moreover, diferent languages have different quirks, so there is no \"universal\" tokenizers. There are many libraries that have \"better\" tokenizers:\n",
    "\n",
    "* [Spacy](https://spacy.io/): it can be accessed using: `get_tokenizer(\"spacy\")`. Spacy supports a wide range of languages.\n",
    "* [Huggingface](https://huggingface.co/): it has many tokenizers for different laguages. [Doc](https://huggingface.co/transformers/main_classes/tokenizer.html)\n",
    "* [NLTK](https://www.nltk.org/): it provides several tokenizers. One of them can be accessed using: `get_tokenizer(\"toktok\")`\n"
   ]
  },
  {
   "cell_type": "markdown",
   "metadata": {
    "id": "V8SfEgmbqm4W"
   },
   "source": [
    "---\n",
    "# Step 4: choose toolkit\n",
    "\n",
    "Our goal is to train a model capable of estimating the sentiment of a tweet (positive or negative) by reading its content. To that end we will try 2 different approaches:\n",
    "\n",
    "* A logistic regression using sklearn. **NOTE**: it can probaly work better than an SVM model.\n",
    "* A simple Embedding + RNN."
   ]
  },
  {
   "cell_type": "markdown",
   "metadata": {
    "id": "GdOBVk-xK_3Q"
   },
   "source": [
    "## Logistic regression\n",
    "\n",
    "We will represent our senteces using binary vectorization. This means that our data would be represented as a matrix of instances by word with a one if the word is in the instance, and zero otherwise. Sklean vectorizers can also do things such as stop-word removal and puntuation removal, you can read more about in [the documentation](https://scikit-learn.org/stable/modules/generated/sklearn.feature_extraction.text.CountVectorizer.html)."
   ]
  },
  {
   "cell_type": "code",
   "execution_count": 35,
   "metadata": {
    "id": "YJYRrunegErX"
   },
   "outputs": [],
   "source": [
    "vectorizer = CountVectorizer(binary=True)\n",
    "x_train_cv = vectorizer.fit_transform(x_train_text)\n",
    "x_test_cv = vectorizer.transform(x_test_text)"
   ]
  },
  {
   "cell_type": "code",
   "execution_count": 36,
   "metadata": {
    "colab": {
     "base_uri": "https://localhost:8080/"
    },
    "id": "_P06FIRhtJeR",
    "outputId": "3f30fe2e-ffb4-4fac-cbfa-45e6ad82d9a0"
   },
   "outputs": [
    {
     "name": "stdout",
     "output_type": "stream",
     "text": [
      "Before Vectorize:  today brake deer three separate occasion suppose better breaking four deer austintx\n"
     ]
    }
   ],
   "source": [
    "print('Before Vectorize: ', x_train_text[3])"
   ]
  },
  {
   "cell_type": "code",
   "execution_count": 37,
   "metadata": {
    "colab": {
     "base_uri": "https://localhost:8080/"
    },
    "id": "NUJgcg5KsrpB",
    "outputId": "527e63d2-fe8e-401c-d9e3-a3538c47e6e7"
   },
   "outputs": [
    {
     "name": "stdout",
     "output_type": "stream",
     "text": [
      "After Vectorize: \n",
      "  (0, 7724)\t1\n",
      "  (0, 1113)\t1\n",
      "  (0, 2057)\t1\n",
      "  (0, 7667)\t1\n",
      "  (0, 6757)\t1\n",
      "  (0, 5364)\t1\n",
      "  (0, 7392)\t1\n",
      "  (0, 916)\t1\n",
      "  (0, 1126)\t1\n",
      "  (0, 3009)\t1\n",
      "  (0, 693)\t1\n"
     ]
    }
   ],
   "source": [
    "# Notice that the matriz is sparse\n",
    "print('After Vectorize: ')\n",
    "print(x_train_cv[3])"
   ]
  },
  {
   "cell_type": "markdown",
   "metadata": {
    "id": "v1lKB1njtjy3"
   },
   "source": [
    "Now we can train our model. You can check the documentation of this logistic regressor [here](https://scikit-learn.org/stable/modules/generated/sklearn.linear_model.LogisticRegression.html?highlight=logistic#sklearn.linear_model.LogisticRegression)."
   ]
  },
  {
   "cell_type": "code",
   "execution_count": 38,
   "metadata": {
    "colab": {
     "base_uri": "https://localhost:8080/"
    },
    "id": "MhQ7IVB1jgd_",
    "outputId": "d21496b6-3f1a-49e9-a315-24e4241b8f58"
   },
   "outputs": [
    {
     "name": "stderr",
     "output_type": "stream",
     "text": [
      "/opt/anaconda3/lib/python3.8/site-packages/sklearn/linear_model/_sag.py:328: ConvergenceWarning: The max_iter was reached which means the coef_ did not converge\n",
      "  warnings.warn(\"The max_iter was reached which means \"\n"
     ]
    },
    {
     "data": {
      "text/plain": [
       "LogisticRegression(solver='saga')"
      ]
     },
     "execution_count": 38,
     "metadata": {},
     "output_type": "execute_result"
    }
   ],
   "source": [
    "model = LogisticRegression(solver='saga')\n",
    "model.fit(x_train_cv, y_train)"
   ]
  },
  {
   "cell_type": "code",
   "execution_count": 39,
   "metadata": {
    "colab": {
     "base_uri": "https://localhost:8080/"
    },
    "id": "M88j5tF6y3Vw",
    "outputId": "5b08e673-5ea8-4f71-c68b-e19cbdc9e940"
   },
   "outputs": [
    {
     "name": "stdout",
     "output_type": "stream",
     "text": [
      "              precision    recall  f1-score   support\n",
      "\n",
      "           0       0.84      0.98      0.90       591\n",
      "           1       0.40      0.05      0.09       121\n",
      "\n",
      "    accuracy                           0.83       712\n",
      "   macro avg       0.62      0.52      0.50       712\n",
      "weighted avg       0.76      0.83      0.77       712\n",
      "\n"
     ]
    }
   ],
   "source": [
    "# prediction with lemmatized words\n",
    "y_pred = model.predict(x_test_cv)\n",
    "print(classification_report(y_test, y_pred))"
   ]
  },
  {
   "cell_type": "code",
   "execution_count": 40,
   "metadata": {
    "colab": {
     "base_uri": "https://localhost:8080/"
    },
    "id": "bmTacPGvjXTr",
    "outputId": "816c1106-8248-4841-9e35-e7a7e6035e64"
   },
   "outputs": [
    {
     "name": "stdout",
     "output_type": "stream",
     "text": [
      "              precision    recall  f1-score   support\n",
      "\n",
      "           0       0.84      0.98      0.90       591\n",
      "           1       0.40      0.05      0.09       121\n",
      "\n",
      "    accuracy                           0.83       712\n",
      "   macro avg       0.62      0.52      0.50       712\n",
      "weighted avg       0.76      0.83      0.77       712\n",
      "\n"
     ]
    }
   ],
   "source": [
    "# prediction with unprocessed text\n",
    "y_pred = model.predict(x_test_cv)\n",
    "\n",
    "print(classification_report(y_test, y_pred))"
   ]
  },
  {
   "cell_type": "markdown",
   "metadata": {
    "id": "GBV5rPdNkTDJ"
   },
   "source": [
    "## Explainable AI\n",
    "The best thing about logistic regresion is that it is simple, and we can get some explanations."
   ]
  },
  {
   "cell_type": "code",
   "execution_count": 41,
   "metadata": {
    "colab": {
     "base_uri": "https://localhost:8080/"
    },
    "id": "qoySEV9Rke-z",
    "outputId": "b6c80b25-64b1-49d6-e629-0dc2af923156"
   },
   "outputs": [
    {
     "name": "stdout",
     "output_type": "stream",
     "text": [
      "(1, 8574)\n",
      "8574\n"
     ]
    }
   ],
   "source": [
    "print(model.coef_.shape)\n",
    "print(len(vectorizer.vocabulary_))\n",
    "\n",
    "words_sk = list(vectorizer.vocabulary_.keys())\n",
    "words_sk.sort(key=lambda w: model.coef_[0, vectorizer.vocabulary_[w]])"
   ]
  },
  {
   "cell_type": "code",
   "execution_count": 42,
   "metadata": {
    "colab": {
     "base_uri": "https://localhost:8080/"
    },
    "id": "SdhlSydIlPX6",
    "outputId": "ef272262-b541-4b04-e450-4b842947a762"
   },
   "outputs": [
    {
     "name": "stdout",
     "output_type": "stream",
     "text": [
      "via: -1.1752597732802033\n",
      "understand: -1.0299119696872854\n",
      "win: -1.0182221637261157\n",
      "2019: -1.0136698796156938\n",
      "hey: -0.9535087776392258\n",
      "later: -0.9450044096557335\n",
      "full: -0.9266226725479921\n",
      "help: -0.8639855073461573\n",
      "food: -0.8622708746722914\n",
      "family: -0.8599620742644077\n",
      "month: -0.8410276095137329\n",
      "birthday: -0.8289206066401767\n",
      "say: -0.8261224237549929\n",
      "friend: -0.8218561885056587\n",
      "body: -0.81930587198056\n",
      "video: -0.8068907838796939\n",
      "20: -0.8034672130211626\n",
      "thinking: -0.8002896480108793\n",
      "book: -0.7969474774739418\n",
      "honestly: -0.7866096804626721\n",
      "club: -0.7637705748516359\n",
      "cant: -0.7554259991498938\n",
      "feel: -0.75332988590717\n",
      "together: -0.7502454150406661\n",
      "death: -0.7480538655412752\n",
      "bloody: -0.7333739867739771\n",
      "hand: -0.7233048544257363\n",
      "finally: -0.713087231536759\n",
      "see: -0.7094399310048186\n",
      "listening: -0.7084077683393708\n",
      "stop: -0.7030980658877556\n",
      "quality: -0.7009150070195914\n",
      "show: -0.691658166974679\n",
      "used: -0.6852787761288001\n",
      "walking: -0.6835207202700383\n",
      "anymore: -0.6761026642321657\n",
      "whole: -0.6689767035207639\n",
      "done: -0.6669517773240684\n",
      "break: -0.6581181196366532\n",
      "situation: -0.6578863348628073\n",
      "actual: -0.6543712960646132\n",
      "interview: -0.6529920156295055\n",
      "pretty: -0.6454126387581492\n",
      "game: -0.6450099954613598\n",
      "much: -0.6442581437324117\n",
      "taking: -0.6420880712928921\n",
      "many: -0.6372170292456655\n",
      "let: -0.6301401336793414\n",
      "cannot: -0.6274382774722097\n",
      "bit: -0.6218029881896391\n"
     ]
    }
   ],
   "source": [
    "for w in words_sk[:50]:\n",
    "    print('{}: {}'.format(w, model.coef_[0, vectorizer.vocabulary_[w]]))"
   ]
  },
  {
   "cell_type": "code",
   "execution_count": 43,
   "metadata": {
    "colab": {
     "base_uri": "https://localhost:8080/"
    },
    "id": "5m6m5OSMlb5w",
    "outputId": "e47b99c7-0cd8-4c8c-9b15-3b8c7ba58ccf"
   },
   "outputs": [
    {
     "name": "stdout",
     "output_type": "stream",
     "text": [
      "guess: 1.424743209542342\n",
      "might: 1.36446616238849\n",
      "sarcasm: 1.2930004579495065\n",
      "thanks: 1.275814989978765\n",
      "minute: 1.225813060589463\n",
      "job: 1.1291166963093122\n",
      "box: 1.1278356620513723\n",
      "brexit: 1.102292003369904\n",
      "speech: 1.093691230429544\n",
      "30: 0.9955425878957399\n",
      "anything: 0.9582292948456163\n",
      "delivery: 0.9526965949007302\n",
      "dear: 0.9526599721183322\n",
      "sure: 0.9177999194419594\n",
      "alcohol: 0.9171957819800233\n",
      "brian: 0.9130138331386375\n",
      "didnt: 0.9030123805649728\n",
      "skip: 0.9026988148820189\n",
      "brand: 0.886931052615735\n",
      "gotta: 0.8849081597402486\n",
      "joke: 0.8779836857513911\n",
      "blocked: 0.8774880326750588\n",
      "fuss: 0.8760237069409876\n",
      "insomnia: 0.8681191763362874\n",
      "million: 0.8642895111809893\n",
      "eat: 0.8624302648933724\n",
      "falling: 0.8514201710232847\n",
      "as: 0.8436281192395328\n",
      "official: 0.8422684557261607\n",
      "finger: 0.8352230678486665\n",
      "prof: 0.8351269369445319\n",
      "helpful: 0.8296163257543824\n",
      "magic: 0.8254136522050921\n",
      "oh: 0.823761871312721\n",
      "killed: 0.8181270275799074\n",
      "tom: 0.8155222980847641\n",
      "trump: 0.8150810728785728\n",
      "love: 0.8092761984824047\n",
      "trailer: 0.8091486205659354\n",
      "award: 0.806276950740836\n",
      "reproducing: 0.8011438695053456\n",
      "second: 0.7740096238440128\n",
      "usmnt: 0.7693601640216701\n",
      "beard: 0.7636435205436387\n",
      "2d: 0.7592058777124111\n",
      "shocked: 0.7509242013481038\n",
      "constantly: 0.7495091173956361\n",
      "apparently: 0.7481718780625638\n",
      "fear: 0.7480235142132813\n",
      "pissed: 0.7475642411764923\n"
     ]
    }
   ],
   "source": [
    "for w in reversed(words_sk[-50:]):\n",
    "    print('{}: {}'.format(w, model.coef_[0, vectorizer.vocabulary_[w]]))"
   ]
  },
  {
   "cell_type": "markdown",
   "metadata": {
    "id": "LnahRDPPlwLF"
   },
   "source": [
    "What does this mean?\n",
    "\n",
    "Remember the `model.coef_` is the $W$ in:\n",
    "\n",
    "$$h(x)=\\sigma(WX + b)$$\n",
    "\n",
    "where the label 1 is a positive tweet and the label 0 is a negative tweet."
   ]
  },
  {
   "cell_type": "markdown",
   "metadata": {
    "id": "zVZ2PBxbvKQe"
   },
   "source": [
    "## Recurrent Neural Network with Pytorch"
   ]
  },
  {
   "cell_type": "markdown",
   "metadata": {
    "id": "CrE1EVw0u5G4"
   },
   "source": [
    "In the previous section we use a Bag-Of-Words approach to represent each of the tweets. That meas that we only consider how many times each of the words appear in each of the tweets, we didnt take into account the order of the words. But we know that the word order is very important and carries relevant information.\n",
    "\n",
    "In this section we will solve the same task, but this time we will implement a Recurrent Neural Network (RNN) instead of using a simple Logistic Regression.Unlike feedforward neural networks, RNNs have cyclic connections making them powerful for modeling sequences.\n",
    "\n",
    "Let's start by importing the relevant libraries.\n"
   ]
  },
  {
   "cell_type": "code",
   "execution_count": 44,
   "metadata": {
    "id": "b71EOPSW3ZGX"
   },
   "outputs": [],
   "source": [
    "def set_device():\n",
    "    device = \"cuda\" if torch.cuda.is_available() else \"cpu\"\n",
    "    if device != \"cuda\":\n",
    "        print(\"WARNING: For this notebook to perform best, if possible, in the menu under `Runtime` -> `Change runtime type.`  select `GPU` \")\n",
    "    else:\n",
    "        print(\"GPU is enabled in this notebook.\")\n",
    "\n",
    "    return device"
   ]
  },
  {
   "cell_type": "code",
   "execution_count": 45,
   "metadata": {
    "colab": {
     "base_uri": "https://localhost:8080/"
    },
    "id": "uLj0CiArC1FW",
    "outputId": "d63674fe-889e-4c41-af99-9308723585cb"
   },
   "outputs": [
    {
     "name": "stdout",
     "output_type": "stream",
     "text": [
      "WARNING: For this notebook to perform best, if possible, in the menu under `Runtime` -> `Change runtime type.`  select `GPU` \n"
     ]
    }
   ],
   "source": [
    "# Set the device (check if gpu is available)\n",
    "device = set_device()"
   ]
  },
  {
   "cell_type": "markdown",
   "metadata": {
    "id": "o-PDXYBeHkP8"
   },
   "source": [
    "First we will create a Dictionary (`word_to_idx`). This dictionary will map each Token (usually words) to an index (an integer number). We want to limit our dictionary to a certain number of tokens (`num_words_dict`), so we will include in our ditionary those with more occurrences."
   ]
  },
  {
   "cell_type": "code",
   "execution_count": 46,
   "metadata": {
    "colab": {
     "base_uri": "https://localhost:8080/"
    },
    "id": "-xgoN6wBLD4D",
    "outputId": "54b7447c-32c7-4845-e3a4-108ca9ecb9d2"
   },
   "outputs": [
    {
     "data": {
      "text/plain": [
       "['n', 'like', 'get', 'one', 'day', 'im', 'time', 'love', 'year', 'people']"
      ]
     },
     "execution_count": 46,
     "metadata": {},
     "output_type": "execute_result"
    }
   ],
   "source": [
    "# From previous section, we have a list with the most used tokens\n",
    "sorted_words[:10]"
   ]
  },
  {
   "cell_type": "code",
   "execution_count": 47,
   "metadata": {},
   "outputs": [
    {
     "data": {
      "text/plain": [
       "8880"
      ]
     },
     "execution_count": 47,
     "metadata": {},
     "output_type": "execute_result"
    }
   ],
   "source": [
    "len(sorted_words)"
   ]
  },
  {
   "cell_type": "markdown",
   "metadata": {
    "id": "rD3R_O86Li1C"
   },
   "source": [
    "Let's select only the most used."
   ]
  },
  {
   "cell_type": "code",
   "execution_count": 48,
   "metadata": {
    "id": "WxIq7VaMLhhZ"
   },
   "outputs": [],
   "source": [
    "num_words_dict = 5000\n",
    "# We reserve two numbers for special tokens.\n",
    "most_used_words = sorted_words[:num_words_dict-2]"
   ]
  },
  {
   "cell_type": "markdown",
   "metadata": {
    "id": "mapbxK97LoaZ"
   },
   "source": [
    "We will add two extra Tokens to the dictionary, one for words outside the dictionary (`'UNK'`) and one for padding the sequences (`'PAD'`)."
   ]
  },
  {
   "cell_type": "code",
   "execution_count": 49,
   "metadata": {
    "id": "4LLZ8_x-8R7A"
   },
   "outputs": [],
   "source": [
    "# dictionary to go from words to idx \n",
    "word_to_idx = {}\n",
    "# dictionary to go from idx to words (just in case) \n",
    "idx_to_word = {}\n",
    "\n",
    "\n",
    "# We include the special tokens first\n",
    "PAD_token = 0   \n",
    "UNK_token = 1\n",
    "\n",
    "word_to_idx['PAD'] = PAD_token\n",
    "word_to_idx['UNK'] = UNK_token\n",
    "\n",
    "idx_to_word[PAD_token] = 'PAD'\n",
    "idx_to_word[UNK_token] = 'UNK'\n",
    "\n",
    "# We popullate our dictionaries with the most used words\n",
    "for num,word in enumerate(most_used_words):\n",
    "    word_to_idx[word] = num + 2\n",
    "    idx_to_word[num+2] = word"
   ]
  },
  {
   "cell_type": "markdown",
   "metadata": {
    "id": "Q5-RsXa5N4Pa"
   },
   "source": [
    "Our goal now is to transform each tweet from a sequence of tokens to a sequence of indexes. These sequences of indexes will be the input to our pytorch model."
   ]
  },
  {
   "cell_type": "code",
   "execution_count": 50,
   "metadata": {
    "id": "gsouHCSMIcxl"
   },
   "outputs": [],
   "source": [
    "# A function to convert list of tokens to list of indexes\n",
    "def tokens_to_idx(sentences_tokens,word_to_idx):\n",
    "    sentences_idx = []\n",
    "    for sent in sentences_tokens:\n",
    "        sent_idx = []\n",
    "        for word in sent:\n",
    "            if word in word_to_idx:\n",
    "                sent_idx.append(word_to_idx[word])\n",
    "            else:\n",
    "                sent_idx.append(word_to_idx['UNK'])\n",
    "        sentences_idx.append(sent_idx)\n",
    "    return sentences_idx"
   ]
  },
  {
   "cell_type": "code",
   "execution_count": 51,
   "metadata": {
    "id": "ALUM0qVEIR9H"
   },
   "outputs": [],
   "source": [
    "x_train_idx = tokens_to_idx(x_train_token,word_to_idx)\n",
    "x_test_idx = tokens_to_idx(x_test_token,word_to_idx)"
   ]
  },
  {
   "cell_type": "code",
   "execution_count": 52,
   "metadata": {},
   "outputs": [
    {
     "data": {
      "text/plain": [
       "(2844, 712)"
      ]
     },
     "execution_count": 52,
     "metadata": {},
     "output_type": "execute_result"
    }
   ],
   "source": [
    "len(x_train_idx), len(x_test_idx)"
   ]
  },
  {
   "cell_type": "code",
   "execution_count": 53,
   "metadata": {
    "colab": {
     "base_uri": "https://localhost:8080/"
    },
    "id": "pV8M-vpbzTJH",
    "outputId": "5796744a-7b4f-4d4e-ac04-c8dea4d2d360"
   },
   "outputs": [
    {
     "name": "stdout",
     "output_type": "stream",
     "text": [
      "Before converting:  ['happened', 'responsibility', 'guess', 'tax', 'payer', 'pick', 'bill', 'chose', 'get', 'insured']\n",
      "After converting:  [362, 1222, 255, 721, 2163, 626, 1223, 1559, 4, 3405]\n"
     ]
    }
   ],
   "source": [
    "some_number = 1\n",
    "print('Before converting: ', x_train_token[some_number])\n",
    "print('After converting: ', x_train_idx[some_number])"
   ]
  },
  {
   "cell_type": "markdown",
   "metadata": {
    "id": "Jb7NkBaPRA1K"
   },
   "source": [
    "We need all the sequences to have the same length. To select an adequate sequence length, let's explore some statistics about the length of the tweets:"
   ]
  },
  {
   "cell_type": "code",
   "execution_count": 54,
   "metadata": {
    "colab": {
     "base_uri": "https://localhost:8080/"
    },
    "id": "oIivM0w7KaBZ",
    "outputId": "84e5b759-36e9-41f7-ba20-45a2dc78bdfe"
   },
   "outputs": [
    {
     "name": "stdout",
     "output_type": "stream",
     "text": [
      "Max tweet word length:  50\n",
      "Mean tweet word length:  9.0\n",
      "99% percent under:  29.0\n"
     ]
    }
   ],
   "source": [
    "tweet_lens = np.asarray([len(sentence) for sentence in x_train_idx])\n",
    "print('Max tweet word length: ',tweet_lens.max())\n",
    "print('Mean tweet word length: ',np.median(tweet_lens))\n",
    "print('99% percent under: ',np.quantile(tweet_lens,0.99))"
   ]
  },
  {
   "cell_type": "markdown",
   "metadata": {
    "id": "sGxGrc4LV9s1"
   },
   "source": [
    "We cut the sequences which are larger than our chosen maximum length (`max_lenght`) and fill with zeros the ones that are shorter."
   ]
  },
  {
   "cell_type": "code",
   "execution_count": 55,
   "metadata": {
    "id": "n4lowj5J3bbU"
   },
   "outputs": [],
   "source": [
    " # We choose the max length\n",
    "max_length = 30\n",
    "\n",
    "# A function to make all the sequence have the same lenght\n",
    "# Note that the output is a Numpy matrix\n",
    "def padding(sentences, seq_len):\n",
    "    features = np.zeros((len(sentences), seq_len),dtype=int)\n",
    "    for ii, tweet in enumerate(sentences):\n",
    "        len_tweet = len(tweet) \n",
    "        if len_tweet != 0:\n",
    "            if len_tweet <= seq_len:\n",
    "        # If its shorter, we fill with zeros (the padding Token index)\n",
    "                features[ii, -len(tweet):] = np.array(tweet)[:seq_len]\n",
    "            if len_tweet > seq_len:\n",
    "        # If its larger, we take the last 'seq_len' indexes\n",
    "                features[ii, :] = np.array(tweet)[-seq_len:]\n",
    "    return features"
   ]
  },
  {
   "cell_type": "code",
   "execution_count": 56,
   "metadata": {
    "id": "uznqXIbxL2EL"
   },
   "outputs": [],
   "source": [
    "# We convert our list of tokens into a numpy matrix\n",
    "# where all instances have the same lenght\n",
    "x_train_pad = padding(x_train_idx,max_length)\n",
    "x_test_pad = padding(x_test_idx,max_length)\n",
    "\n",
    "# We convert our target list a numpy matrix\n",
    "y_train_np = np.asarray(y_train)\n",
    "y_test_np = np.asarray(y_test)"
   ]
  },
  {
   "cell_type": "code",
   "execution_count": 57,
   "metadata": {
    "colab": {
     "base_uri": "https://localhost:8080/"
    },
    "id": "hRaqwJFxz5P_",
    "outputId": "9e82fa58-6a6f-4b94-b0ca-d31b07ffecf1"
   },
   "outputs": [
    {
     "name": "stdout",
     "output_type": "stream",
     "text": [
      "Before padding:  [3406, 1560, 164, 722]\n",
      "After padding:  [   0    0    0    0    0    0    0    0    0    0    0    0    0    0\n",
      "    0    0    0    0    0    0    0    0    0    0    0    0 3406 1560\n",
      "  164  722]\n"
     ]
    }
   ],
   "source": [
    "some_number = 2\n",
    "print('Before padding: ', x_train_idx[some_number])\n",
    "print('After padding: ', x_train_pad[some_number])"
   ]
  },
  {
   "cell_type": "markdown",
   "metadata": {
    "id": "TdkZhAGEWUEZ"
   },
   "source": [
    "Now, let's convert the data to pytorch format.\n"
   ]
  },
  {
   "cell_type": "code",
   "execution_count": 58,
   "metadata": {
    "id": "FrUVSRWKwCwG"
   },
   "outputs": [],
   "source": [
    "# create Tensor datasets\n",
    "train_data = TensorDataset(torch.from_numpy(x_train_pad), torch.from_numpy(y_train_np))\n",
    "valid_data = TensorDataset(torch.from_numpy(x_test_pad), torch.from_numpy(y_test_np))\n",
    "\n",
    "# Batch size (this is an important hyperparameter)\n",
    "batch_size = 100\n",
    "\n",
    "# dataloaders\n",
    "# make sure to SHUFFLE your data\n",
    "train_loader = DataLoader(train_data, shuffle=True, batch_size=batch_size,drop_last = True)\n",
    "valid_loader = DataLoader(valid_data, shuffle=True, batch_size=batch_size,drop_last = True)"
   ]
  },
  {
   "cell_type": "code",
   "execution_count": 59,
   "metadata": {},
   "outputs": [
    {
     "data": {
      "text/plain": [
       "((2844, 30), (712, 30), (2844,), (712,))"
      ]
     },
     "execution_count": 59,
     "metadata": {},
     "output_type": "execute_result"
    }
   ],
   "source": [
    "x_train_pad.shape, x_test_pad.shape, y_train_np.shape, y_test_np.shape"
   ]
  },
  {
   "cell_type": "markdown",
   "metadata": {
    "id": "yzGq6Q6GXxgD"
   },
   "source": [
    "Each batch of data in our traning proccess will have the folllowing format:"
   ]
  },
  {
   "cell_type": "code",
   "execution_count": 60,
   "metadata": {
    "colab": {
     "base_uri": "https://localhost:8080/"
    },
    "id": "oOlFUtt-3mL1",
    "outputId": "d148c4e0-98af-4fb1-8cbe-167ce8975915"
   },
   "outputs": [
    {
     "name": "stdout",
     "output_type": "stream",
     "text": [
      "Sample input size:  torch.Size([100, 30])\n",
      "Sample input: \n",
      " tensor([[   0,    0,    0,  ...,  689,  689,  689],\n",
      "        [   0,    1,  832,  ...,    1,    1,    1],\n",
      "        [   0,    0,    0,  ..., 4467, 2596, 4468],\n",
      "        ...,\n",
      "        [   0,    0,    0,  ...,  749, 1661, 4368],\n",
      "        [   0,    0,    0,  ...,  120,  120, 2062],\n",
      "        [   0,    0,    0,  ...,  990,    1,    1]])\n",
      "Sample input: \n",
      " tensor([0, 0, 0, 0, 1, 0, 0, 0, 0, 0, 1, 0, 0, 0, 0, 0, 0, 1, 0, 0, 0, 0, 0, 0,\n",
      "        1, 1, 0, 0, 0, 0, 0, 0, 0, 0, 0, 0, 1, 0, 0, 0, 0, 1, 0, 0, 0, 0, 1, 0,\n",
      "        0, 0, 0, 1, 0, 0, 0, 0, 0, 0, 0, 0, 1, 0, 1, 0, 0, 1, 0, 1, 0, 1, 0, 0,\n",
      "        0, 0, 0, 0, 0, 1, 0, 0, 0, 0, 0, 0, 0, 0, 1, 0, 0, 0, 0, 0, 0, 1, 1, 0,\n",
      "        0, 0, 0, 0])\n"
     ]
    }
   ],
   "source": [
    "# Obtain one batch of training data\n",
    "dataiter = iter(train_loader)\n",
    "sample_x, sample_y = dataiter.next()\n",
    "\n",
    "print('Sample input size: ', sample_x.size()) # batch_size, seq_length\n",
    "print('Sample input: \\n', sample_x)\n",
    "print('Sample input: \\n', sample_y)"
   ]
  },
  {
   "cell_type": "markdown",
   "metadata": {
    "id": "OlgELk0iZJRa"
   },
   "source": [
    "Now, we will define the `SentimentRNN` class. Most of the model's class will be familiar to you, but there are two important layers we would like you to pay attention to:\n",
    "\n",
    "*   Embedding Layer\n",
    "> This layer is like a linear layer, but it makes it posible to use a sequence of inedexes as inputs (instead of a sequence of one-hot-encoded vectors). During training, the Embedding layer learns a linear transformation from the space of words (a vector space of dimension `num_words_dict`) into the a new, smaller, vector space of dimension `embedding_dim`. We suggest you to read this [thread](https://discuss.pytorch.org/t/how-does-nn-embedding-work/88518/3) and the [pytorch documentation](https://pytorch.org/docs/stable/generated/torch.nn.Embedding.html) if you want to learn more about this particular kind of layers.\n",
    "\n",
    "\n",
    "*   LSTM layer\n",
    "> This is one of the most used class of Recurrent Neural Networks. In Pytorch we can add several stacked layers in just one line of code. In our case, the number of layers added are decided with the parameter `no_layers`. If you want to learn more about LSTMs we strongly recommend you this [Colahs thread](https://colah.github.io/posts/2015-08-Understanding-LSTMs/) about them.\n",
    "\n",
    "\n",
    "\n",
    "\n",
    "\n"
   ]
  },
  {
   "cell_type": "code",
   "execution_count": 61,
   "metadata": {
    "id": "k1T6TCkNv3vh"
   },
   "outputs": [],
   "source": [
    "class SentimentRNN(nn.Module):\n",
    "    def __init__(self,no_layers,vocab_size,hidden_dim,embedding_dim,drop_prob=0.1):\n",
    "        super(SentimentRNN,self).__init__()\n",
    "\n",
    "        self.output_dim = output_dim\n",
    "        self.hidden_dim = hidden_dim\n",
    "        self.no_layers = no_layers\n",
    "        self.vocab_size = vocab_size\n",
    "        self.drop_prob = drop_prob\n",
    "\n",
    "    # Embedding Layer\n",
    "        self.embedding = nn.Embedding(vocab_size, embedding_dim)\n",
    "\n",
    "    # LSTM Layers\n",
    "        self.lstm = nn.LSTM(input_size=embedding_dim,hidden_size=self.hidden_dim,\n",
    "                            num_layers=no_layers, batch_first=True, \n",
    "                            dropout=self.drop_prob)\n",
    "\n",
    "    # Dropout layer\n",
    "        self.dropout = nn.Dropout(drop_prob)\n",
    "\n",
    "    # Linear and Sigmoid layer\n",
    "        self.fc = nn.Linear(self.hidden_dim, output_dim)\n",
    "        self.sig = nn.Sigmoid()\n",
    "      \n",
    "    def forward(self,x,hidden):\n",
    "        batch_size = x.size(0)\n",
    "\n",
    "    # Embedding out\n",
    "        embeds = self.embedding(x)\n",
    "    #Shape: [batch_size x max_length x embedding_dim]\n",
    "\n",
    "    # LSTM out\n",
    "        lstm_out, hidden = self.lstm(embeds, hidden)\n",
    "    # Shape: [batch_size x max_length x hidden_dim]\n",
    "\n",
    "    # Select the activation of the last Hidden Layer\n",
    "        lstm_out = lstm_out[:,-1,:].contiguous()\n",
    "    # Shape: [batch_size x hidden_dim]\n",
    "\n",
    "    ## You can instead average the activations across all the times\n",
    "    # lstm_out = torch.mean(lstm_out, 1).contiguous()\n",
    "\n",
    "    # Dropout and Fully connected layer\n",
    "        out = self.dropout(lstm_out)\n",
    "        out = self.fc(out)\n",
    "\n",
    "    # Sigmoid function\n",
    "        sig_out = self.sig(out)\n",
    "\n",
    "    # return last sigmoid output and hidden state\n",
    "        return sig_out, hidden\n",
    "\n",
    "    def init_hidden(self, batch_size):\n",
    "        ''' Initializes hidden state '''\n",
    "    # Create two new tensors with sizes n_layers x batch_size x hidden_dim,\n",
    "    # initialized to zero, for hidden state and cell state of LSTM\n",
    "        h0 = torch.zeros((self.no_layers,batch_size,self.hidden_dim)).to(device)\n",
    "        c0 = torch.zeros((self.no_layers,batch_size,self.hidden_dim)).to(device)\n",
    "        hidden = (h0,c0)\n",
    "        return hidden"
   ]
  },
  {
   "cell_type": "markdown",
   "metadata": {
    "id": "TMGvzusI9GWV"
   },
   "source": [
    "We choose the parameters of the model."
   ]
  },
  {
   "cell_type": "code",
   "execution_count": 62,
   "metadata": {
    "id": "APJOW6nAwE8X"
   },
   "outputs": [],
   "source": [
    "# Parameters of our network\n",
    "\n",
    "# Size of our vocabulary\n",
    "vocab_size = num_words_dict\n",
    "\n",
    "# Embedding dimension\n",
    "embedding_dim = 32\n",
    "\n",
    "# Number of stacked LSTM layers\n",
    "no_layers = 2\n",
    "\n",
    "# Dimension of the hidden layer in LSTMs\n",
    "hidden_dim = 64\n",
    "\n",
    "# Dropout parameter for regularization\n",
    "output_dim = 1\n",
    "\n",
    "# Dropout parameter for regularization\n",
    "drop_prob = 0.25"
   ]
  },
  {
   "cell_type": "code",
   "execution_count": 63,
   "metadata": {
    "colab": {
     "base_uri": "https://localhost:8080/"
    },
    "id": "MkU8qmQp9Jz1",
    "outputId": "91e7c019-dca3-4ba8-fbe5-d259840df058"
   },
   "outputs": [
    {
     "name": "stdout",
     "output_type": "stream",
     "text": [
      "SentimentRNN(\n",
      "  (embedding): Embedding(5000, 32)\n",
      "  (lstm): LSTM(32, 64, num_layers=2, batch_first=True, dropout=0.25)\n",
      "  (dropout): Dropout(p=0.25, inplace=False)\n",
      "  (fc): Linear(in_features=64, out_features=1, bias=True)\n",
      "  (sig): Sigmoid()\n",
      ")\n"
     ]
    }
   ],
   "source": [
    "# Let's define our model\n",
    "model = SentimentRNN(no_layers, vocab_size, hidden_dim,\n",
    "                     embedding_dim, drop_prob=drop_prob)\n",
    "# Moving to gpu\n",
    "model.to(device)\n",
    "print(model)"
   ]
  },
  {
   "cell_type": "code",
   "execution_count": 64,
   "metadata": {
    "colab": {
     "base_uri": "https://localhost:8080/"
    },
    "id": "sf5i_e66Wr2t",
    "outputId": "c4d7483d-2910-4e60-fac1-ac8a2a8b0d05"
   },
   "outputs": [
    {
     "name": "stdout",
     "output_type": "stream",
     "text": [
      "Total Number of parameters:  218433\n"
     ]
    }
   ],
   "source": [
    "# How many trainable parameters does our model have?\n",
    "model_parameters = filter(lambda p: p.requires_grad, model.parameters())\n",
    "params = sum([np.prod(p.size()) for p in model_parameters])\n",
    "print('Total Number of parameters: ',params)"
   ]
  },
  {
   "cell_type": "code",
   "execution_count": 76,
   "metadata": {},
   "outputs": [
    {
     "data": {
      "text/plain": [
       "array([0.0005, 0.0006, 0.0007, 0.0008, 0.0009, 0.001 , 0.0011, 0.0012,\n",
       "       0.0013, 0.0014, 0.0015])"
      ]
     },
     "execution_count": 76,
     "metadata": {},
     "output_type": "execute_result"
    }
   ],
   "source": [
    "np.linspace(0.0005,0.0015,11)"
   ]
  },
  {
   "cell_type": "markdown",
   "metadata": {
    "id": "jHfxPwek96Lv"
   },
   "source": [
    "We choose the losses and the optimizer for the training procces."
   ]
  },
  {
   "cell_type": "code",
   "execution_count": 77,
   "metadata": {
    "id": "v7rMO7JvNRSK"
   },
   "outputs": [],
   "source": [
    "# loss and optimization functions\n",
    "lrs = np.linspace(0.0005,0.0015,11)#define a range of learning rates\n",
    "\n",
    "# Binary crossentropy is a good loss function for a binary classification problem\n",
    "criterion = nn.BCELoss()\n",
    "\n",
    "# We choose an Adam optimizer\n",
    "optimizers = []\n",
    "for i,lr in enumerate(lrs):\n",
    "    optimizer = torch.optim.Adam(model.parameters(), lr=lr)\n",
    "    optimizers.append(optimizer)\n",
    "# function to predict accuracy\n",
    "def acc(pred,label):\n",
    "    pred = torch.round(pred.squeeze())\n",
    "    return torch.sum(pred == label.squeeze()).item()"
   ]
  },
  {
   "cell_type": "markdown",
   "metadata": {
    "id": "cCdCbl29-JvW"
   },
   "source": [
    "We are ready to train our model."
   ]
  },
  {
   "cell_type": "code",
   "execution_count": 78,
   "metadata": {
    "colab": {
     "base_uri": "https://localhost:8080/"
    },
    "id": "OZy0nWO6NevR",
    "outputId": "a6303aaa-9833-48dc-899d-79d06d049532"
   },
   "outputs": [
    {
     "name": "stdout",
     "output_type": "stream",
     "text": [
      "Epoch 1\n",
      "train_loss : 0.6005141107099397 val_loss : 0.4744860700198582\n",
      "train_accuracy : 80.94233473980309 val_accuracy : 81.60112359550563\n",
      "Validation loss decreased (inf --> 0.474486).  Saving model ...\n",
      "==================================================\n",
      "Epoch 2\n",
      "train_loss : 0.4693986475467682 val_loss : 0.46185442379542757\n",
      "train_accuracy : 81.57524613220815 val_accuracy : 81.46067415730337\n",
      "Validation loss decreased (0.474486 --> 0.461854).  Saving model ...\n",
      "==================================================\n",
      "Epoch 3\n",
      "train_loss : 0.4597174557191985 val_loss : 0.45728922741753714\n",
      "train_accuracy : 81.61040787623067 val_accuracy : 81.60112359550563\n",
      "Validation loss decreased (0.461854 --> 0.457289).  Saving model ...\n",
      "==================================================\n",
      "Epoch 4\n",
      "train_loss : 0.45545046989406857 val_loss : 0.4608643778732845\n",
      "train_accuracy : 81.82137834036568 val_accuracy : 81.32022471910112\n",
      "==================================================\n",
      "Epoch 5\n",
      "train_loss : 0.45515024981328417 val_loss : 0.45569700428417753\n",
      "train_accuracy : 81.75105485232066 val_accuracy : 81.60112359550563\n",
      "Validation loss decreased (0.457289 --> 0.455697).  Saving model ...\n",
      "==================================================\n",
      "Epoch 1\n",
      "train_loss : 0.4567702497754778 val_loss : 0.4548606829983847\n",
      "train_accuracy : 81.68073136427567 val_accuracy : 81.60112359550563\n",
      "Validation loss decreased (0.455697 --> 0.454861).  Saving model ...\n",
      "==================================================\n",
      "Epoch 2\n",
      "train_loss : 0.4534236661025456 val_loss : 0.4482859458242144\n",
      "train_accuracy : 81.64556962025317 val_accuracy : 82.02247191011236\n",
      "Validation loss decreased (0.454861 --> 0.448286).  Saving model ...\n",
      "==================================================\n",
      "Epoch 3\n",
      "train_loss : 0.45057523037706104 val_loss : 0.45650129658835276\n",
      "train_accuracy : 81.68073136427567 val_accuracy : 81.46067415730337\n",
      "==================================================\n",
      "Epoch 4\n",
      "train_loss : 0.4364797536815916 val_loss : 0.46895587018557955\n",
      "train_accuracy : 81.75105485232066 val_accuracy : 81.60112359550563\n",
      "==================================================\n",
      "Epoch 5\n",
      "train_loss : 0.4317333570548466 val_loss : 0.46244107825415476\n",
      "train_accuracy : 81.82137834036568 val_accuracy : 81.60112359550563\n",
      "==================================================\n",
      "Epoch 1\n",
      "train_loss : 0.4236518921596663 val_loss : 0.47138254983084543\n",
      "train_accuracy : 81.75105485232066 val_accuracy : 81.46067415730337\n",
      "==================================================\n",
      "Epoch 2\n",
      "train_loss : 0.4131284270967756 val_loss : 0.4772358792168753\n",
      "train_accuracy : 81.64556962025317 val_accuracy : 81.32022471910112\n",
      "==================================================\n",
      "Epoch 3\n",
      "train_loss : 0.40326510689088274 val_loss : 0.48109330449785503\n",
      "train_accuracy : 81.89170182841069 val_accuracy : 81.46067415730337\n",
      "==================================================\n",
      "Epoch 4\n",
      "train_loss : 0.39778025980506626 val_loss : 0.48327572856630596\n",
      "train_accuracy : 82.0323488045007 val_accuracy : 81.74157303370787\n",
      "==================================================\n",
      "Epoch 5\n",
      "train_loss : 0.38171141488211496 val_loss : 0.49602663091250826\n",
      "train_accuracy : 82.38396624472574 val_accuracy : 81.60112359550563\n",
      "==================================================\n",
      "Epoch 1\n",
      "train_loss : 0.3803314396313259 val_loss : 0.493442850453513\n",
      "train_accuracy : 82.52461322081575 val_accuracy : 80.75842696629213\n",
      "==================================================\n",
      "Epoch 2\n",
      "train_loss : 0.3597788544637816 val_loss : 0.5158201583794185\n",
      "train_accuracy : 83.12236286919831 val_accuracy : 80.33707865168539\n",
      "==================================================\n",
      "Epoch 3\n",
      "train_loss : 0.35061571321317125 val_loss : 0.5218581642423358\n",
      "train_accuracy : 83.64978902953587 val_accuracy : 79.21348314606742\n",
      "==================================================\n",
      "Epoch 4\n",
      "train_loss : 0.3361564560660294 val_loss : 0.5455797527517591\n",
      "train_accuracy : 84.31786216596343 val_accuracy : 78.93258426966293\n",
      "==================================================\n",
      "Epoch 5\n",
      "train_loss : 0.3251334066901888 val_loss : 0.564876105104174\n",
      "train_accuracy : 84.84528832630099 val_accuracy : 79.49438202247191\n",
      "==================================================\n",
      "Epoch 1\n",
      "train_loss : 0.31237337259309633 val_loss : 0.5536571017333439\n",
      "train_accuracy : 85.44303797468355 val_accuracy : 76.68539325842697\n",
      "==================================================\n",
      "Epoch 2\n",
      "train_loss : 0.29062701389193535 val_loss : 0.5844111357416425\n",
      "train_accuracy : 86.74402250351618 val_accuracy : 78.08988764044943\n",
      "==================================================\n",
      "Epoch 3\n",
      "train_loss : 0.27140478417277336 val_loss : 0.6037000502858844\n",
      "train_accuracy : 87.27144866385372 val_accuracy : 75.98314606741573\n",
      "==================================================\n",
      "Epoch 4\n",
      "train_loss : 0.24987307669860975 val_loss : 0.6459021483148847\n",
      "train_accuracy : 88.43178621659634 val_accuracy : 71.91011235955057\n",
      "==================================================\n",
      "Epoch 5\n",
      "train_loss : 0.22133510453360422 val_loss : 0.7202407717704773\n",
      "train_accuracy : 89.55696202531645 val_accuracy : 72.89325842696628\n",
      "==================================================\n",
      "Epoch 1\n",
      "train_loss : 0.22489130230886595 val_loss : 0.728913060256413\n",
      "train_accuracy : 89.41631504922644 val_accuracy : 72.19101123595506\n",
      "==================================================\n",
      "Epoch 2\n",
      "train_loss : 0.19156683262969768 val_loss : 0.7877052681786674\n",
      "train_accuracy : 90.85794655414908 val_accuracy : 70.36516853932584\n",
      "==================================================\n",
      "Epoch 3\n",
      "train_loss : 0.1681036108306476 val_loss : 0.8322045462472099\n",
      "train_accuracy : 92.40506329113924 val_accuracy : 74.43820224719101\n",
      "==================================================\n",
      "Epoch 4\n",
      "train_loss : 0.15763231446700438 val_loss : 0.8418915527207511\n",
      "train_accuracy : 92.82700421940928 val_accuracy : 74.43820224719101\n",
      "==================================================\n",
      "Epoch 5\n",
      "train_loss : 0.14436945824750833 val_loss : 0.8758672305515834\n",
      "train_accuracy : 93.07313642756681 val_accuracy : 69.3820224719101\n",
      "==================================================\n",
      "Epoch 1\n",
      "train_loss : 0.16657728542174613 val_loss : 0.7993195056915283\n",
      "train_accuracy : 92.08860759493672 val_accuracy : 77.24719101123596\n",
      "==================================================\n",
      "Epoch 2\n",
      "train_loss : 0.1215508094589625 val_loss : 0.9629849536078317\n",
      "train_accuracy : 94.1279887482419 val_accuracy : 72.89325842696628\n",
      "==================================================\n",
      "Epoch 3\n",
      "train_loss : 0.11120270884462766 val_loss : 1.0044286421367101\n",
      "train_accuracy : 94.47960618846695 val_accuracy : 73.17415730337079\n",
      "==================================================\n",
      "Epoch 4\n",
      "train_loss : 0.10248607490211725 val_loss : 1.0644263114248003\n",
      "train_accuracy : 95.0070323488045 val_accuracy : 70.36516853932584\n",
      "==================================================\n",
      "Epoch 5\n",
      "train_loss : 0.09177773319450873 val_loss : 1.1589590225900923\n",
      "train_accuracy : 95.21800281293952 val_accuracy : 76.40449438202246\n",
      "==================================================\n",
      "Epoch 1\n",
      "train_loss : 0.08835915196686983 val_loss : 1.192658543586731\n",
      "train_accuracy : 95.35864978902954 val_accuracy : 76.96629213483146\n",
      "==================================================\n",
      "Epoch 2\n",
      "train_loss : 0.08935056074655481 val_loss : 1.0840721215520586\n",
      "train_accuracy : 95.46413502109705 val_accuracy : 71.76966292134831\n",
      "==================================================\n",
      "Epoch 3\n",
      "train_loss : 0.07764136445309434 val_loss : 1.154481589794159\n",
      "train_accuracy : 95.74542897327707 val_accuracy : 72.47191011235955\n",
      "==================================================\n",
      "Epoch 4\n",
      "train_loss : 0.0632237923730697 val_loss : 1.2915054389408656\n",
      "train_accuracy : 96.44866385372714 val_accuracy : 72.89325842696628\n",
      "==================================================\n",
      "Epoch 5\n",
      "train_loss : 0.05003326858526894 val_loss : 1.4145806176321847\n",
      "train_accuracy : 96.87060478199719 val_accuracy : 71.91011235955057\n",
      "==================================================\n",
      "Epoch 1\n",
      "train_loss : 0.0613369587143617 val_loss : 1.3441410490444727\n",
      "train_accuracy : 96.44866385372714 val_accuracy : 73.31460674157303\n",
      "==================================================\n",
      "Epoch 2\n",
      "train_loss : 0.04425883519330195 val_loss : 1.4957621267863683\n",
      "train_accuracy : 96.9760900140647 val_accuracy : 71.76966292134831\n",
      "==================================================\n",
      "Epoch 3\n",
      "train_loss : 0.04128966507102762 val_loss : 1.4785711509840829\n",
      "train_accuracy : 97.22222222222221 val_accuracy : 73.17415730337079\n",
      "==================================================\n",
      "Epoch 4\n",
      "train_loss : 0.037592950875737836 val_loss : 1.5402395554951258\n",
      "train_accuracy : 97.18706047819971 val_accuracy : 75.98314606741573\n",
      "==================================================\n",
      "Epoch 5\n",
      "train_loss : 0.03851755641932998 val_loss : 1.578783631324768\n",
      "train_accuracy : 97.39803094233473 val_accuracy : 72.6123595505618\n",
      "==================================================\n",
      "Epoch 1\n",
      "train_loss : 0.03990025871566364 val_loss : 1.5549065726143974\n",
      "train_accuracy : 97.15189873417721 val_accuracy : 72.19101123595506\n",
      "==================================================\n",
      "Epoch 2\n",
      "train_loss : 0.029753876184778556 val_loss : 1.5305231298719133\n",
      "train_accuracy : 97.60900140646976 val_accuracy : 72.89325842696628\n",
      "==================================================\n",
      "Epoch 3\n",
      "train_loss : 0.025257014952200865 val_loss : 1.6041752099990845\n",
      "train_accuracy : 97.74964838255977 val_accuracy : 75.0\n",
      "==================================================\n",
      "Epoch 4\n",
      "train_loss : 0.025721663796243126 val_loss : 1.6476221936089652\n",
      "train_accuracy : 97.57383966244726 val_accuracy : 76.54494382022472\n",
      "==================================================\n",
      "Epoch 5\n",
      "train_loss : 0.024431996114019836 val_loss : 1.7395410708018713\n",
      "train_accuracy : 97.60900140646976 val_accuracy : 73.31460674157303\n",
      "==================================================\n",
      "Epoch 1\n",
      "train_loss : 0.03827920647537602 val_loss : 1.5458321230752128\n",
      "train_accuracy : 97.18706047819971 val_accuracy : 75.42134831460675\n",
      "==================================================\n",
      "Epoch 2\n",
      "train_loss : 0.025521325001526356 val_loss : 1.6141167708805628\n",
      "train_accuracy : 97.60900140646976 val_accuracy : 73.59550561797754\n",
      "==================================================\n",
      "Epoch 3\n",
      "train_loss : 0.018682703862266083 val_loss : 1.6124205248696464\n",
      "train_accuracy : 97.81997187060479 val_accuracy : 75.42134831460675\n",
      "==================================================\n",
      "Epoch 4\n",
      "train_loss : 0.016015222840776135 val_loss : 1.888796670096261\n",
      "train_accuracy : 97.9254571026723 val_accuracy : 73.31460674157303\n",
      "==================================================\n",
      "Epoch 5\n",
      "train_loss : 0.014897757746179454 val_loss : 1.80233599458422\n",
      "train_accuracy : 98.10126582278481 val_accuracy : 75.0\n",
      "==================================================\n"
     ]
    }
   ],
   "source": [
    "# Number of training Epochs\n",
    "epochs = 5\n",
    "\n",
    "# Maximum absolute value accepted for the gradeint\n",
    "clip = 5\n",
    "\n",
    "# Initial Loss value (assumed big)\n",
    "valid_loss_min = np.Inf\n",
    "\n",
    "# Lists to follow the evolution of the loss and accuracy\n",
    "epoch_tr_loss,epoch_vl_loss = [[] for i in range(len(lrs))],[[] for i in range(len(lrs))]\n",
    "epoch_tr_acc,epoch_vl_acc = [[] for i in range(len(lrs))],[[] for i in range(len(lrs))]\n",
    "\n",
    "# Train for a number of Epochs\n",
    "for i, lr in enumerate(lrs):\n",
    "    for epoch in range(epochs):\n",
    "        train_losses = []\n",
    "        train_acc = 0.0\n",
    "        model.train()\n",
    "  \n",
    "        for inputs, labels in train_loader:\n",
    "\n",
    "    # Initialize hidden state \n",
    "            h = model.init_hidden(batch_size)\n",
    "    # Creating new variables for the hidden state\n",
    "            h = tuple([each.data.to(device) for each in h])\n",
    "\n",
    "    # Move batch inputs and labels to gpu\n",
    "            inputs, labels = inputs.to(device), labels.to(device)   \n",
    "\n",
    "    # Set gradient to zero\n",
    "            model.zero_grad()\n",
    "\n",
    "    # Compute model output\n",
    "            output,h = model(inputs,h)\n",
    "\n",
    "    # Calculate the loss and perform backprop\n",
    "            loss = criterion(output.squeeze(), labels.float())\n",
    "            loss.backward()\n",
    "            train_losses.append(loss.item())\n",
    "\n",
    "    # calculating accuracy\n",
    "            accuracy = acc(output,labels)\n",
    "            train_acc += accuracy\n",
    "\n",
    "    #`clip_grad_norm` helps prevent the exploding gradient problem in RNNs / LSTMs.\n",
    "            nn.utils.clip_grad_norm_(model.parameters(), clip)\n",
    "            optimizers[i].step()\n",
    "\n",
    "  \n",
    "  # Evaluate on the validation set for this epoch \n",
    "        val_losses = []\n",
    "        val_acc = 0.0\n",
    "        model.eval()\n",
    "        for inputs, labels in valid_loader:\n",
    "\n",
    "    # Initialize hidden state \n",
    "            val_h = model.init_hidden(batch_size)\n",
    "            val_h = tuple([each.data.to(device) for each in val_h])\n",
    "\n",
    "    # Move batch inputs and labels to gpu\n",
    "            inputs, labels = inputs.to(device), labels.to(device)\n",
    "\n",
    "    # Compute model output\n",
    "            output, val_h = model(inputs, val_h)\n",
    "\n",
    "    # Compute Loss\n",
    "            val_loss = criterion(output.squeeze(), labels.float())\n",
    "\n",
    "            val_losses.append(val_loss.item())\n",
    "\n",
    "            accuracy = acc(output,labels)\n",
    "            val_acc += accuracy\n",
    "          \n",
    "        epoch_train_loss = np.mean(train_losses)\n",
    "        epoch_val_loss = np.mean(val_losses)\n",
    "        epoch_train_acc = train_acc/len(train_loader.dataset)\n",
    "        epoch_val_acc = val_acc/len(valid_loader.dataset)\n",
    "        epoch_tr_loss[i].append(epoch_train_loss)\n",
    "        epoch_vl_loss[i].append(epoch_val_loss)\n",
    "        epoch_tr_acc[i].append(epoch_train_acc)\n",
    "        epoch_vl_acc[i].append(epoch_val_acc)\n",
    "        print(f'Epoch {epoch+1}') \n",
    "        print(f'train_loss : {epoch_train_loss} val_loss : {epoch_val_loss}')\n",
    "        print(f'train_accuracy : {epoch_train_acc*100} val_accuracy : {epoch_val_acc*100}')\n",
    "        if epoch_val_loss <= valid_loss_min:\n",
    "            print('Validation loss decreased ({:.6f} --> {:.6f}).  Saving model ...'.format(valid_loss_min,epoch_val_loss))\n",
    "    # torch.save(model.state_dict(), '../working/state_dict.pt')\n",
    "            valid_loss_min = epoch_val_loss\n",
    "        print(25*'==')"
   ]
  },
  {
   "cell_type": "code",
   "execution_count": 80,
   "metadata": {
    "colab": {
     "base_uri": "https://localhost:8080/",
     "height": 390
    },
    "id": "HjHgDrNs3n1R",
    "outputId": "47569815-13e0-4216-cef7-7bc8ff329856"
   },
   "outputs": [
    {
     "data": {
      "image/png": "[encoded data removed]",
      "text/plain": [
       "<Figure size 1440x4752 with 22 Axes>"
      ]
     },
     "metadata": {
      "needs_background": "light"
     },
     "output_type": "display_data"
    }
   ],
   "source": [
    "fig, ax = plt.subplots(11,2, figsize = (20,66))\n",
    "for i, lr in enumerate(lrs):\n",
    "    ax[i][0].plot(epoch_tr_acc[i], label='Train Acc')\n",
    "    ax[i][0].plot(epoch_vl_acc[i], label='Validation Acc')\n",
    "    ax[i][0].set_xlabel('epochs')\n",
    "    ax[i][0].set_xticks([0,1,2,3,4])\n",
    "    ax[i][0].set_title('Accuracy, LR = %.4f'%lr)\n",
    "    ax[i][0].legend()\n",
    "    ax[i][0].grid()\n",
    "    \n",
    "    ax[i][1].plot(epoch_tr_loss[i], label='Train Loss')\n",
    "    ax[i][1].plot(epoch_vl_loss[i], label='Validation Loss')\n",
    "    ax[i][1].set_xlabel('epochs')\n",
    "    ax[i][1].set_xticks([0,1,2,3,4])\n",
    "    ax[i][1].set_title('Loss, LR = %.4f'%lr)\n",
    "    ax[i][1].legend()\n",
    "    ax[i][1].grid()"
   ]
  },
  {
   "cell_type": "code",
   "execution_count": 87,
   "metadata": {},
   "outputs": [],
   "source": [
    "np.savetxt('/Users/bengieru/Desktop/NMA-DL/iSarcasm/Results/learning_rate_tr_acc.txt', epoch_tr_acc)\n",
    "np.savetxt('/Users/bengieru/Desktop/NMA-DL/iSarcasm/Results/learning_rate_tr_loss.txt', epoch_tr_loss)\n",
    "np.savetxt('/Users/bengieru/Desktop/NMA-DL/iSarcasm/Results/learning_rate_vl_loss.txt', epoch_vl_loss)\n",
    "np.savetxt('/Users/bengieru/Desktop/NMA-DL/iSarcasm/Results/learning_rate_vl_acc.txt', epoch_vl_acc)"
   ]
  },
  {
   "cell_type": "code",
   "execution_count": null,
   "metadata": {},
   "outputs": [],
   "source": [
    "fig = plt.figure(figsize = (20, 6))\n",
    "plt.subplot(1, 2, 1)\n",
    "plt.plot(epoch_tr_acc, label='Train Acc')\n",
    "plt.plot(epoch_vl_acc, label='Validation Acc')\n",
    "plt.title(\"Accuracy\")\n",
    "plt.legend()\n",
    "plt.grid()\n",
    "\n",
    "plt.subplot(1, 2, 2)\n",
    "plt.plot(epoch_tr_loss, label='Train loss')\n",
    "plt.plot(epoch_vl_loss, label='Validation loss')\n",
    "plt.title(\"Loss\")\n",
    "plt.legend()\n",
    "plt.grid()\n",
    "\n",
    "plt.show()"
   ]
  },
  {
   "cell_type": "code",
   "execution_count": null,
   "metadata": {},
   "outputs": [],
   "source": []
  },
  {
   "cell_type": "code",
   "execution_count": null,
   "metadata": {},
   "outputs": [],
   "source": []
  },
  {
   "cell_type": "code",
   "execution_count": null,
   "metadata": {},
   "outputs": [],
   "source": []
  },
  {
   "cell_type": "markdown",
   "metadata": {
    "id": "1ZulB6qUIFGO"
   },
   "source": [
    "---\n",
    "# What's Next?\n",
    "\n",
    "You can use this project template as a starting point to think about your own project. There are a lot of ways to continue, here we share with you some ideas you migth find useful:\n",
    "\n",
    "*   **Work on the Preproccesing.** We used a very rudimentary way to tokenize tweets. But there are better ways to preprocess the data. Can you think of a suitable way to preprocess the data for this particular task? How does the performance of the model change when the data is processed correctly?\n",
    "*   **Work on the Model.** The RNN model proposed in this notebook is not optimized at all. You can work on finding a better architecture or better hyperparamenters. May be using bidirectonal LSTMs or increasing the number of stacked layers can improve the performance, feel free to try different approaches.\n",
    "*   **Work on the Embedding.** Our model learnt an embedding during the training on this Twitter corpus for a particular task. You can explore the representation of different words in this learned embedding. Also, you can try using different word embeddings. You can train them on this corpus or you can use an embedding trained on another corpus of data. How does the change of the embedding affect the model performance?\n",
    "*   **Try sentiment analysis on another dataset.** There are lots of available dataset to work with, we can help you find one that is interesting to you. Do you belive that a sentiment analysis model trained on some corpus (Twitter dataset) will perform well on another type of data (for example, youtube comments)?\n",
    "\n"
   ]
  }
 ],
 "metadata": {
  "accelerator": "GPU",
  "colab": {
   "collapsed_sections": [],
   "include_colab_link": true,
   "machine_shape": "hm",
   "name": "sentiment_analysis_singh.ipynb",
   "provenance": []
  },
  "kernelspec": {
   "display_name": "Python 3",
   "language": "python",
   "name": "python3"
  },
  "language_info": {
   "codemirror_mode": {
    "name": "ipython",
    "version": 3
   },
   "file_extension": ".py",
   "mimetype": "text/x-python",
   "name": "python",
   "nbconvert_exporter": "python",
   "pygments_lexer": "ipython3",
   "version": "3.8.8"
  },
  "widgets": {
   "application/vnd.jupyter.widget-state+json": {
    "149501605fe14e6d8bffe71cef7a6f01": {
     "model_module": "@jupyter-widgets/controls",
     "model_name": "HTMLModel",
     "state": {
      "_dom_classes": [],
      "_model_module": "@jupyter-widgets/controls",
      "_model_module_version": "1.5.0",
      "_model_name": "HTMLModel",
      "_view_count": null,
      "_view_module": "@jupyter-widgets/controls",
      "_view_module_version": "1.5.0",
      "_view_name": "HTMLView",
      "description": "",
      "description_tooltip": null,
      "layout": "IPY_MODEL_7913e6590ce943a282a81fab33dcd3a2",
      "placeholder": "​",
      "style": "IPY_MODEL_99f00d6ff58e4d2e9a9e7b8654c5d8ae",
      "value": " 1280000/1280000 [02:39&lt;00:00, 8000.70it/s]"
     }
    },
    "284a6d3c6297438fa237c2281eaed4d6": {
     "model_module": "@jupyter-widgets/controls",
     "model_name": "ProgressStyleModel",
     "state": {
      "_model_module": "@jupyter-widgets/controls",
      "_model_module_version": "1.5.0",
      "_model_name": "ProgressStyleModel",
      "_view_count": null,
      "_view_module": "@jupyter-widgets/base",
      "_view_module_version": "1.2.0",
      "_view_name": "StyleView",
      "bar_color": null,
      "description_width": "initial"
     }
    },
    "2ba33be356f84aef80df5984374cc49a": {
     "model_module": "@jupyter-widgets/controls",
     "model_name": "HBoxModel",
     "state": {
      "_dom_classes": [],
      "_model_module": "@jupyter-widgets/controls",
      "_model_module_version": "1.5.0",
      "_model_name": "HBoxModel",
      "_view_count": null,
      "_view_module": "@jupyter-widgets/controls",
      "_view_module_version": "1.5.0",
      "_view_name": "HBoxView",
      "box_style": "",
      "children": [
       "IPY_MODEL_fbe55d97aa2d4947851af6f3113b8945",
       "IPY_MODEL_8064e13cb6ba434ab61a38fec261a19f"
      ],
      "layout": "IPY_MODEL_34e89231ee5b448580b83d35a5db7fc1"
     }
    },
    "34e89231ee5b448580b83d35a5db7fc1": {
     "model_module": "@jupyter-widgets/base",
     "model_name": "LayoutModel",
     "state": {
      "_model_module": "@jupyter-widgets/base",
      "_model_module_version": "1.2.0",
      "_model_name": "LayoutModel",
      "_view_count": null,
      "_view_module": "@jupyter-widgets/base",
      "_view_module_version": "1.2.0",
      "_view_name": "LayoutView",
      "align_content": null,
      "align_items": null,
      "align_self": null,
      "border": null,
      "bottom": null,
      "display": null,
      "flex": null,
      "flex_flow": null,
      "grid_area": null,
      "grid_auto_columns": null,
      "grid_auto_flow": null,
      "grid_auto_rows": null,
      "grid_column": null,
      "grid_gap": null,
      "grid_row": null,
      "grid_template_areas": null,
      "grid_template_columns": null,
      "grid_template_rows": null,
      "height": null,
      "justify_content": null,
      "justify_items": null,
      "left": null,
      "margin": null,
      "max_height": null,
      "max_width": null,
      "min_height": null,
      "min_width": null,
      "object_fit": null,
      "object_position": null,
      "order": null,
      "overflow": null,
      "overflow_x": null,
      "overflow_y": null,
      "padding": null,
      "right": null,
      "top": null,
      "visibility": null,
      "width": null
     }
    },
    "3e297259defd4e27a2a1352c84d8322a": {
     "model_module": "@jupyter-widgets/controls",
     "model_name": "HBoxModel",
     "state": {
      "_dom_classes": [],
      "_model_module": "@jupyter-widgets/controls",
      "_model_module_version": "1.5.0",
      "_model_name": "HBoxModel",
      "_view_count": null,
      "_view_module": "@jupyter-widgets/controls",
      "_view_module_version": "1.5.0",
      "_view_name": "HBoxView",
      "box_style": "",
      "children": [
       "IPY_MODEL_b941c45c83ed48c1a3b79bf969f9730f",
       "IPY_MODEL_149501605fe14e6d8bffe71cef7a6f01"
      ],
      "layout": "IPY_MODEL_c584ca7eaf934566afadeca66567ac59"
     }
    },
    "7913e6590ce943a282a81fab33dcd3a2": {
     "model_module": "@jupyter-widgets/base",
     "model_name": "LayoutModel",
     "state": {
      "_model_module": "@jupyter-widgets/base",
      "_model_module_version": "1.2.0",
      "_model_name": "LayoutModel",
      "_view_count": null,
      "_view_module": "@jupyter-widgets/base",
      "_view_module_version": "1.2.0",
      "_view_name": "LayoutView",
      "align_content": null,
      "align_items": null,
      "align_self": null,
      "border": null,
      "bottom": null,
      "display": null,
      "flex": null,
      "flex_flow": null,
      "grid_area": null,
      "grid_auto_columns": null,
      "grid_auto_flow": null,
      "grid_auto_rows": null,
      "grid_column": null,
      "grid_gap": null,
      "grid_row": null,
      "grid_template_areas": null,
      "grid_template_columns": null,
      "grid_template_rows": null,
      "height": null,
      "justify_content": null,
      "justify_items": null,
      "left": null,
      "margin": null,
      "max_height": null,
      "max_width": null,
      "min_height": null,
      "min_width": null,
      "object_fit": null,
      "object_position": null,
      "order": null,
      "overflow": null,
      "overflow_x": null,
      "overflow_y": null,
      "padding": null,
      "right": null,
      "top": null,
      "visibility": null,
      "width": null
     }
    },
    "8064e13cb6ba434ab61a38fec261a19f": {
     "model_module": "@jupyter-widgets/controls",
     "model_name": "HTMLModel",
     "state": {
      "_dom_classes": [],
      "_model_module": "@jupyter-widgets/controls",
      "_model_module_version": "1.5.0",
      "_model_name": "HTMLModel",
      "_view_count": null,
      "_view_module": "@jupyter-widgets/controls",
      "_view_module_version": "1.5.0",
      "_view_name": "HTMLView",
      "description": "",
      "description_tooltip": null,
      "layout": "IPY_MODEL_c60df60c0a5f49feb847a69569bf34b3",
      "placeholder": "​",
      "style": "IPY_MODEL_9b8d8baae2104172a2ccf62cd6ed2913",
      "value": " 320000/320000 [02:28&lt;00:00, 2161.38it/s]"
     }
    },
    "87d98a8b4eaa46dcb917bbabdc6c43b9": {
     "model_module": "@jupyter-widgets/controls",
     "model_name": "ProgressStyleModel",
     "state": {
      "_model_module": "@jupyter-widgets/controls",
      "_model_module_version": "1.5.0",
      "_model_name": "ProgressStyleModel",
      "_view_count": null,
      "_view_module": "@jupyter-widgets/base",
      "_view_module_version": "1.2.0",
      "_view_name": "StyleView",
      "bar_color": null,
      "description_width": "initial"
     }
    },
    "91d96bf314d849568665b8fef10a51ad": {
     "model_module": "@jupyter-widgets/base",
     "model_name": "LayoutModel",
     "state": {
      "_model_module": "@jupyter-widgets/base",
      "_model_module_version": "1.2.0",
      "_model_name": "LayoutModel",
      "_view_count": null,
      "_view_module": "@jupyter-widgets/base",
      "_view_module_version": "1.2.0",
      "_view_name": "LayoutView",
      "align_content": null,
      "align_items": null,
      "align_self": null,
      "border": null,
      "bottom": null,
      "display": null,
      "flex": null,
      "flex_flow": null,
      "grid_area": null,
      "grid_auto_columns": null,
      "grid_auto_flow": null,
      "grid_auto_rows": null,
      "grid_column": null,
      "grid_gap": null,
      "grid_row": null,
      "grid_template_areas": null,
      "grid_template_columns": null,
      "grid_template_rows": null,
      "height": null,
      "justify_content": null,
      "justify_items": null,
      "left": null,
      "margin": null,
      "max_height": null,
      "max_width": null,
      "min_height": null,
      "min_width": null,
      "object_fit": null,
      "object_position": null,
      "order": null,
      "overflow": null,
      "overflow_x": null,
      "overflow_y": null,
      "padding": null,
      "right": null,
      "top": null,
      "visibility": null,
      "width": null
     }
    },
    "99f00d6ff58e4d2e9a9e7b8654c5d8ae": {
     "model_module": "@jupyter-widgets/controls",
     "model_name": "DescriptionStyleModel",
     "state": {
      "_model_module": "@jupyter-widgets/controls",
      "_model_module_version": "1.5.0",
      "_model_name": "DescriptionStyleModel",
      "_view_count": null,
      "_view_module": "@jupyter-widgets/base",
      "_view_module_version": "1.2.0",
      "_view_name": "StyleView",
      "description_width": ""
     }
    },
    "9b8d8baae2104172a2ccf62cd6ed2913": {
     "model_module": "@jupyter-widgets/controls",
     "model_name": "DescriptionStyleModel",
     "state": {
      "_model_module": "@jupyter-widgets/controls",
      "_model_module_version": "1.5.0",
      "_model_name": "DescriptionStyleModel",
      "_view_count": null,
      "_view_module": "@jupyter-widgets/base",
      "_view_module_version": "1.2.0",
      "_view_name": "StyleView",
      "description_width": ""
     }
    },
    "b941c45c83ed48c1a3b79bf969f9730f": {
     "model_module": "@jupyter-widgets/controls",
     "model_name": "FloatProgressModel",
     "state": {
      "_dom_classes": [],
      "_model_module": "@jupyter-widgets/controls",
      "_model_module_version": "1.5.0",
      "_model_name": "FloatProgressModel",
      "_view_count": null,
      "_view_module": "@jupyter-widgets/controls",
      "_view_module_version": "1.5.0",
      "_view_name": "ProgressView",
      "bar_style": "success",
      "description": "100%",
      "description_tooltip": null,
      "layout": "IPY_MODEL_c67c86302f0a45e78508309ee78d5525",
      "max": 1280000,
      "min": 0,
      "orientation": "horizontal",
      "style": "IPY_MODEL_284a6d3c6297438fa237c2281eaed4d6",
      "value": 1280000
     }
    },
    "c584ca7eaf934566afadeca66567ac59": {
     "model_module": "@jupyter-widgets/base",
     "model_name": "LayoutModel",
     "state": {
      "_model_module": "@jupyter-widgets/base",
      "_model_module_version": "1.2.0",
      "_model_name": "LayoutModel",
      "_view_count": null,
      "_view_module": "@jupyter-widgets/base",
      "_view_module_version": "1.2.0",
      "_view_name": "LayoutView",
      "align_content": null,
      "align_items": null,
      "align_self": null,
      "border": null,
      "bottom": null,
      "display": null,
      "flex": null,
      "flex_flow": null,
      "grid_area": null,
      "grid_auto_columns": null,
      "grid_auto_flow": null,
      "grid_auto_rows": null,
      "grid_column": null,
      "grid_gap": null,
      "grid_row": null,
      "grid_template_areas": null,
      "grid_template_columns": null,
      "grid_template_rows": null,
      "height": null,
      "justify_content": null,
      "justify_items": null,
      "left": null,
      "margin": null,
      "max_height": null,
      "max_width": null,
      "min_height": null,
      "min_width": null,
      "object_fit": null,
      "object_position": null,
      "order": null,
      "overflow": null,
      "overflow_x": null,
      "overflow_y": null,
      "padding": null,
      "right": null,
      "top": null,
      "visibility": null,
      "width": null
     }
    },
    "c60df60c0a5f49feb847a69569bf34b3": {
     "model_module": "@jupyter-widgets/base",
     "model_name": "LayoutModel",
     "state": {
      "_model_module": "@jupyter-widgets/base",
      "_model_module_version": "1.2.0",
      "_model_name": "LayoutModel",
      "_view_count": null,
      "_view_module": "@jupyter-widgets/base",
      "_view_module_version": "1.2.0",
      "_view_name": "LayoutView",
      "align_content": null,
      "align_items": null,
      "align_self": null,
      "border": null,
      "bottom": null,
      "display": null,
      "flex": null,
      "flex_flow": null,
      "grid_area": null,
      "grid_auto_columns": null,
      "grid_auto_flow": null,
      "grid_auto_rows": null,
      "grid_column": null,
      "grid_gap": null,
      "grid_row": null,
      "grid_template_areas": null,
      "grid_template_columns": null,
      "grid_template_rows": null,
      "height": null,
      "justify_content": null,
      "justify_items": null,
      "left": null,
      "margin": null,
      "max_height": null,
      "max_width": null,
      "min_height": null,
      "min_width": null,
      "object_fit": null,
      "object_position": null,
      "order": null,
      "overflow": null,
      "overflow_x": null,
      "overflow_y": null,
      "padding": null,
      "right": null,
      "top": null,
      "visibility": null,
      "width": null
     }
    },
    "c67c86302f0a45e78508309ee78d5525": {
     "model_module": "@jupyter-widgets/base",
     "model_name": "LayoutModel",
     "state": {
      "_model_module": "@jupyter-widgets/base",
      "_model_module_version": "1.2.0",
      "_model_name": "LayoutModel",
      "_view_count": null,
      "_view_module": "@jupyter-widgets/base",
      "_view_module_version": "1.2.0",
      "_view_name": "LayoutView",
      "align_content": null,
      "align_items": null,
      "align_self": null,
      "border": null,
      "bottom": null,
      "display": null,
      "flex": null,
      "flex_flow": null,
      "grid_area": null,
      "grid_auto_columns": null,
      "grid_auto_flow": null,
      "grid_auto_rows": null,
      "grid_column": null,
      "grid_gap": null,
      "grid_row": null,
      "grid_template_areas": null,
      "grid_template_columns": null,
      "grid_template_rows": null,
      "height": null,
      "justify_content": null,
      "justify_items": null,
      "left": null,
      "margin": null,
      "max_height": null,
      "max_width": null,
      "min_height": null,
      "min_width": null,
      "object_fit": null,
      "object_position": null,
      "order": null,
      "overflow": null,
      "overflow_x": null,
      "overflow_y": null,
      "padding": null,
      "right": null,
      "top": null,
      "visibility": null,
      "width": null
     }
    },
    "fbe55d97aa2d4947851af6f3113b8945": {
     "model_module": "@jupyter-widgets/controls",
     "model_name": "FloatProgressModel",
     "state": {
      "_dom_classes": [],
      "_model_module": "@jupyter-widgets/controls",
      "_model_module_version": "1.5.0",
      "_model_name": "FloatProgressModel",
      "_view_count": null,
      "_view_module": "@jupyter-widgets/controls",
      "_view_module_version": "1.5.0",
      "_view_name": "ProgressView",
      "bar_style": "success",
      "description": "100%",
      "description_tooltip": null,
      "layout": "IPY_MODEL_91d96bf314d849568665b8fef10a51ad",
      "max": 320000,
      "min": 0,
      "orientation": "horizontal",
      "style": "IPY_MODEL_87d98a8b4eaa46dcb917bbabdc6c43b9",
      "value": 320000
     }
    }
   }
  }
 },
 "nbformat": 4,
 "nbformat_minor": 4
}
